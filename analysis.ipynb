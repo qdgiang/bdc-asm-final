{
 "cells": [
  {
   "cell_type": "code",
   "execution_count": 1,
   "metadata": {},
   "outputs": [],
   "source": [
    "import pandas as pd"
   ]
  },
  {
   "cell_type": "code",
   "execution_count": 9,
   "metadata": {},
   "outputs": [],
   "source": [
    "df = pd.read_csv('diem_clean.csv', dtype={'F_MAMH': str})"
   ]
  },
  {
   "cell_type": "code",
   "execution_count": 10,
   "metadata": {},
   "outputs": [
    {
     "name": "stdout",
     "output_type": "stream",
     "text": [
      "<class 'pandas.core.frame.DataFrame'>\n",
      "RangeIndex: 677117 entries, 0 to 677116\n",
      "Data columns (total 30 columns):\n",
      " #   Column      Non-Null Count   Dtype  \n",
      "---  ------      --------------   -----  \n",
      " 0   NAMHOC      677117 non-null  int64  \n",
      " 1   TENHK       677117 non-null  int64  \n",
      " 2   NHHK        677117 non-null  int64  \n",
      " 3   F_MAMH      677117 non-null  object \n",
      " 4   F_TENMHVN   677117 non-null  object \n",
      " 5   F_DVHT      677117 non-null  float64\n",
      " 6   F_PHTRAMKT  677117 non-null  int64  \n",
      " 7   F_PHTRAMTH  677117 non-null  int64  \n",
      " 8   F_MANH      677117 non-null  object \n",
      " 9   F_TO        591842 non-null  object \n",
      " 10  STT         384131 non-null  float64\n",
      " 11  F_MAKH      677115 non-null  object \n",
      " 12  F_TENLOP    677117 non-null  object \n",
      " 13  F_KHOI      677117 non-null  object \n",
      " 14  F_MANG      677117 non-null  object \n",
      " 15  F_TENNGVN   677115 non-null  object \n",
      " 16  MASV1       677117 non-null  int64  \n",
      " 17  KT          508905 non-null  float64\n",
      " 18  TILEKT      508905 non-null  float64\n",
      " 19  BT          417935 non-null  float64\n",
      " 20  TILEBT      417935 non-null  float64\n",
      " 21  BTLDA       418258 non-null  float64\n",
      " 22  TILEBTLDA   418258 non-null  float64\n",
      " 23  TN          313641 non-null  float64\n",
      " 24  TILETN      352485 non-null  float64\n",
      " 25  THI         653697 non-null  float64\n",
      " 26  TILETHI     653579 non-null  float64\n",
      " 27  TKET        677117 non-null  float64\n",
      " 28  F_DIEM1     47 non-null      float64\n",
      " 29  F_DIEM2     15628 non-null   float64\n",
      "dtypes: float64(15), int64(6), object(9)\n",
      "memory usage: 155.0+ MB\n"
     ]
    }
   ],
   "source": [
    "df.info()"
   ]
  },
  {
   "cell_type": "code",
   "execution_count": 10,
   "metadata": {},
   "outputs": [
    {
     "data": {
      "text/plain": [
       "array(['Những ngLý cơbản cn M-Lê', 'Đ/lối c/mạng đảng csvn',\n",
       "       'Tư tưởng Hồ Chí Minh', ..., 'Cơ sở máy tính',\n",
       "       'Quy trình thiết kế &sxvm', 'Kiến tập cánbộ kt tktddk'],\n",
       "      dtype=object)"
      ]
     },
     "execution_count": 10,
     "metadata": {},
     "output_type": "execute_result"
    }
   ],
   "source": [
    "df.F_TENMHVN.unique()"
   ]
  },
  {
   "cell_type": "code",
   "execution_count": 5,
   "metadata": {},
   "outputs": [
    {
     "data": {
      "text/plain": [
       "array(['Cơ khí-Cơ điện tử', 'Cơ điện tử', 'Kỹ thuật Chế tạo',\n",
       "       'KT Hệ Thống CN', 'MT&CôngNghệ ThôngTin', 'Kỹ thuật Dệt May',\n",
       "       'Điện - Điện tử', 'Bảo dưỡng CN', 'Kỹ thuật Máy tính',\n",
       "       'CN Hóa học &ThựcPhẩm', 'Kỹ thuật MáyTính(TN)',\n",
       "       'Quản Lý Công Nghiệp', 'Cơ KT- Vật lý KT', 'Công nghệ vật liệu',\n",
       "       'Kiến Trúc', 'Kỹ thuật Giao thông', 'Xây dựng', 'Cơ Điện Tử (TN)',\n",
       "       'KTMáy XD &NângChuyển', 'KT ĐiệnTử -ViễnThông',\n",
       "       'KT Trắc địa - Bản đồ', 'Vật liệu Xây dựng', 'Kỹ thuật Hàng không',\n",
       "       'Khoa học Máy tính', 'Điện năng', 'Khoa học MáyTính(TN)',\n",
       "       'ĐKhiển Tự Động (TN)', 'Điện Tử -VThông (TN)', 'Môi Trường',\n",
       "       'QT-Thiết Bị & ĐKhiển', 'CôngNghệ KỹThuật ÔTô',\n",
       "       'Kỹ thuật Thiết kế', 'Hệ thống Năng lượng', 'CN May - Thời trang',\n",
       "       'KT Nhiệt lạnh', 'Kỹ thuật Hóa Lý', 'Công nghệ Sinh học',\n",
       "       'Kỹ thuật tàu thủy', 'Kỹ thuật Hóa Hữu cơ', 'KT Hóa Vô cơ (TN)',\n",
       "       'Địa chất-Dầu khí', 'Công nghệ Thực phẩm', 'KT Vật Liệu Kim Loại',\n",
       "       'Khoan & Khai thác DK', 'KS CLC Việt Pháp', 'XD Dân dụng - CN(VP)',\n",
       "       'Hệ thống năng lượng', 'XD Dân dụng & CN', 'Cơ Điện Tử',\n",
       "       'Công nghệ sợi dệt', 'Quản Trị Kinh doanh', 'Kỹ Thuật Chế Tạo(TN)',\n",
       "       'CN Thực Phẩm (TN)', 'Vật lý kỹ thuật', 'Điện - Điện Tử (TN)',\n",
       "       'Cơ kỹ thuật', 'Tự động hóa', 'Cầu Đường', 'QLý & CN Môi Trường',\n",
       "       'Công nghệ In nhuộm', 'Kỹ thuật cb dầu khí',\n",
       "       'XD Dân dụng & CN(TN)', 'Hóa-ThựcPhẩm-SinhHọc',\n",
       "       'Kỹ Thuật Môi Trường', 'Trắc địa', 'Điện năng (TN)',\n",
       "       'Cầu Đường (TN)', 'Vật liệu tiên tiến', 'Cảng - CT Biển',\n",
       "       'Địa kỹ thuật', 'Th.Lợi-Th.Điện-CTN', 'Viễn thông',\n",
       "       'Địa chất dầu khí', 'Địa chất Khoáng sản', 'Kỹ thuật Hóa Vô cơ',\n",
       "       'Kỹ Thuật Chế Tạo(LT)', 'Kỹ thuật Hóa dược', 'Địa chất môi trường',\n",
       "       'ĐiệnTử-ViễnThông(B2)', 'Khoa học MáyTính(B2)',\n",
       "       'XD Dân dụng & CN(B2)', 'Xây dựng (B2)', 'Kỹ Thuật Y Sinh (B2)',\n",
       "       'KThuật Hóa Hữu cơ(B2', 'Kỹ thuật Hóa học(B2)',\n",
       "       'Communication S.A', 'Power-Energy S.A', 'Kỹ Thuật Vật Liệu',\n",
       "       'Cơ Điện Tử(B2)', 'Chế Tạo Máy (B2)', 'KT Máy XD & N/Ch (B2',\n",
       "       'CN Sinh Học (B2)', 'Kỹ thuật dệt (B2)', 'KThuật GiaoThông(B2)',\n",
       "       'KT Vật Liệu Silicat', 'KT Vật Liệu Polyme', 'KT Dầu Khí (B2)',\n",
       "       'KT Khoan & KThác(B2)', 'Địa kỹ thuật (B2)', 'Điện năng (B2)',\n",
       "       'Điện - Điện tử (B2)', 'Tự Động hóa (B2)', 'Control System Area',\n",
       "       'Cầu Đường (B2)', 'CNghệ Thông Tin (B2)', 'Kỹ thuật Máy tính(B2',\n",
       "       'Kỹ thuật Hóa Lý (TN)', 'KT Hóa Hữu cơ (TN)', 'CN Thực Phẩm (B2)',\n",
       "       'Dệt - May', 'Th.Lợi-TĐiện-CTN(B2)', 'Trắc Địa-Bản Đồ (B2)',\n",
       "       'Kỹ Thuật Y Sinh', 'Kỹ thuật Hóa học', 'Công nghệ thông tin',\n",
       "       'Kỹ thuật Dầu Khí', 'KT C/Trình Xây Dựng', 'Kỹ thuật Cơ khí (TN)',\n",
       "       'Công nghệ hóa', 'Kỹ thuật Hóa học(TN)', 'Cấp Thoát Nước',\n",
       "       'QHoạch &QL Giaothông', 'Thủy Lợi - Thủy Điện',\n",
       "       'KT VậtLiệu NăngLượng', 'KT&Quảntrị Logistics',\n",
       "       'Kỹ Thuật Điện,ĐiệnTử', 'KT Điều Khiển &TĐHóa', 'Kỹ Thuật Điện',\n",
       "       'Kỹ thuật Cơ khí', 'QLý Công Nghiệp (B2)', 'CN kỹ thuật ôtô(B2)',\n",
       "       'QLý & CN MTrường (B2', 'KT Môi Trường (B2)',\n",
       "       'KTXD C/Trình G/Thông', 'Kỹ Thuật Vật Liệu(B2',\n",
       "       'Kỹ thuật tàu thủy(B2', 'Kỹ Thuật Nhiệt (B2)', nan], dtype=object)"
      ]
     },
     "execution_count": 5,
     "metadata": {},
     "output_type": "execute_result"
    }
   ],
   "source": [
    "df.F_TENNGVN.unique()"
   ]
  },
  {
   "cell_type": "code",
   "execution_count": 6,
   "metadata": {},
   "outputs": [],
   "source": [
    "counts = df.F_TENNGVN.value_counts()\n",
    "counts.to_csv('TenNganh.csv',index=True)"
   ]
  },
  {
   "cell_type": "code",
   "execution_count": 7,
   "metadata": {},
   "outputs": [
    {
     "data": {
      "text/plain": [
       "Điện - Điện tử          106539\n",
       "Xây dựng                 79814\n",
       "Cơ khí-Cơ điện tử        72504\n",
       "Hóa-ThựcPhẩm-SinhHọc     52565\n",
       "MT&CôngNghệ ThôngTin     35713\n",
       "                         ...  \n",
       "Kỹ Thuật Vật Liệu(B2         5\n",
       "CN kỹ thuật ôtô(B2)          3\n",
       "ĐiệnTử-ViễnThông(B2)         3\n",
       "Kỹ thuật tàu thủy(B2         2\n",
       "Địa kỹ thuật (B2)            1\n",
       "Name: F_TENNGVN, Length: 137, dtype: int64"
      ]
     },
     "execution_count": 7,
     "metadata": {},
     "output_type": "execute_result"
    }
   ],
   "source": [
    "counts"
   ]
  },
  {
   "cell_type": "code",
   "execution_count": 11,
   "metadata": {},
   "outputs": [
    {
     "name": "stdout",
     "output_type": "stream",
     "text": [
      "<class 'pandas.core.frame.DataFrame'>\n",
      "Int64Index: 35713 entries, 33 to 676790\n",
      "Data columns (total 30 columns):\n",
      " #   Column      Non-Null Count  Dtype  \n",
      "---  ------      --------------  -----  \n",
      " 0   NAMHOC      35713 non-null  int64  \n",
      " 1   TENHK       35713 non-null  int64  \n",
      " 2   NHHK        35713 non-null  int64  \n",
      " 3   F_MAMH      35713 non-null  object \n",
      " 4   F_TENMHVN   35713 non-null  object \n",
      " 5   F_DVHT      35713 non-null  float64\n",
      " 6   F_PHTRAMKT  35713 non-null  int64  \n",
      " 7   F_PHTRAMTH  35713 non-null  int64  \n",
      " 8   F_MANH      35713 non-null  object \n",
      " 9   F_TO        33351 non-null  object \n",
      " 10  STT         18750 non-null  float64\n",
      " 11  F_MAKH      35713 non-null  object \n",
      " 12  F_TENLOP    35713 non-null  object \n",
      " 13  F_KHOI      35713 non-null  object \n",
      " 14  F_MANG      35713 non-null  object \n",
      " 15  F_TENNGVN   35713 non-null  object \n",
      " 16  MASV1       35713 non-null  int64  \n",
      " 17  KT          26119 non-null  float64\n",
      " 18  TILEKT      26119 non-null  float64\n",
      " 19  BT          19888 non-null  float64\n",
      " 20  TILEBT      19888 non-null  float64\n",
      " 21  BTLDA       25732 non-null  float64\n",
      " 22  TILEBTLDA   25732 non-null  float64\n",
      " 23  TN          20109 non-null  float64\n",
      " 24  TILETN      21105 non-null  float64\n",
      " 25  THI         34433 non-null  float64\n",
      " 26  TILETHI     34433 non-null  float64\n",
      " 27  TKET        35713 non-null  float64\n",
      " 28  F_DIEM1     0 non-null      float64\n",
      " 29  F_DIEM2     874 non-null    float64\n",
      "dtypes: float64(15), int64(6), object(9)\n",
      "memory usage: 8.4+ MB\n"
     ]
    }
   ],
   "source": [
    "#df_e = df[df.F_TENNGVN == \"Điện - Điện tử\"]\n",
    "#df_e.info()\n",
    "df_CS = df[df.F_TENNGVN == \"MT&CôngNghệ ThôngTin\"]\n",
    "df_CS.info()"
   ]
  },
  {
   "cell_type": "code",
   "execution_count": 12,
   "metadata": {},
   "outputs": [
    {
     "data": {
      "text/plain": [
       "36150879    43\n",
       "29110504    43\n",
       "55671874    43\n",
       "82983101    43\n",
       "28427247    43\n",
       "13793340    43\n",
       "32774418    43\n",
       "34090239    43\n",
       "88961649    43\n",
       "78792504    42\n",
       "59891433    42\n",
       "21529850    42\n",
       "92444046    42\n",
       "99046650    42\n",
       "3435436     42\n",
       "92475692    42\n",
       "68719179    42\n",
       "55972596    42\n",
       "93339035    42\n",
       "33526074    42\n",
       "Name: MASV1, dtype: int64"
      ]
     },
     "execution_count": 12,
     "metadata": {},
     "output_type": "execute_result"
    }
   ],
   "source": [
    "df_CS.MASV1.value_counts().head(20)"
   ]
  },
  {
   "cell_type": "code",
   "execution_count": 13,
   "metadata": {},
   "outputs": [
    {
     "name": "stdout",
     "output_type": "stream",
     "text": [
      "<class 'pandas.core.frame.DataFrame'>\n",
      "Int64Index: 43 entries, 80038 to 654855\n",
      "Data columns (total 30 columns):\n",
      " #   Column      Non-Null Count  Dtype  \n",
      "---  ------      --------------  -----  \n",
      " 0   NAMHOC      43 non-null     int64  \n",
      " 1   TENHK       43 non-null     int64  \n",
      " 2   NHHK        43 non-null     int64  \n",
      " 3   F_MAMH      43 non-null     object \n",
      " 4   F_TENMHVN   43 non-null     object \n",
      " 5   F_DVHT      43 non-null     float64\n",
      " 6   F_PHTRAMKT  43 non-null     int64  \n",
      " 7   F_PHTRAMTH  43 non-null     int64  \n",
      " 8   F_MANH      43 non-null     object \n",
      " 9   F_TO        38 non-null     object \n",
      " 10  STT         20 non-null     float64\n",
      " 11  F_MAKH      43 non-null     object \n",
      " 12  F_TENLOP    43 non-null     object \n",
      " 13  F_KHOI      43 non-null     object \n",
      " 14  F_MANG      43 non-null     object \n",
      " 15  F_TENNGVN   43 non-null     object \n",
      " 16  MASV1       43 non-null     int64  \n",
      " 17  KT          30 non-null     float64\n",
      " 18  TILEKT      30 non-null     float64\n",
      " 19  BT          26 non-null     float64\n",
      " 20  TILEBT      26 non-null     float64\n",
      " 21  BTLDA       27 non-null     float64\n",
      " 22  TILEBTLDA   27 non-null     float64\n",
      " 23  TN          21 non-null     float64\n",
      " 24  TILETN      22 non-null     float64\n",
      " 25  THI         40 non-null     float64\n",
      " 26  TILETHI     40 non-null     float64\n",
      " 27  TKET        43 non-null     float64\n",
      " 28  F_DIEM1     0 non-null      float64\n",
      " 29  F_DIEM2     3 non-null      float64\n",
      "dtypes: float64(15), int64(6), object(9)\n",
      "memory usage: 10.4+ KB\n"
     ]
    }
   ],
   "source": [
    "df_student = df_CS[df_CS.MASV1 == 36150879]\n",
    "df_student.info()"
   ]
  },
  {
   "cell_type": "code",
   "execution_count": 14,
   "metadata": {},
   "outputs": [
    {
     "data": {
      "text/html": [
       "<div>\n",
       "<style scoped>\n",
       "    .dataframe tbody tr th:only-of-type {\n",
       "        vertical-align: middle;\n",
       "    }\n",
       "\n",
       "    .dataframe tbody tr th {\n",
       "        vertical-align: top;\n",
       "    }\n",
       "\n",
       "    .dataframe thead th {\n",
       "        text-align: right;\n",
       "    }\n",
       "</style>\n",
       "<table border=\"1\" class=\"dataframe\">\n",
       "  <thead>\n",
       "    <tr style=\"text-align: right;\">\n",
       "      <th></th>\n",
       "      <th>NAMHOC</th>\n",
       "      <th>TENHK</th>\n",
       "      <th>NHHK</th>\n",
       "      <th>F_MAMH</th>\n",
       "      <th>F_TENMHVN</th>\n",
       "      <th>F_DVHT</th>\n",
       "      <th>F_PHTRAMKT</th>\n",
       "      <th>F_PHTRAMTH</th>\n",
       "      <th>F_MANH</th>\n",
       "      <th>F_TO</th>\n",
       "      <th>...</th>\n",
       "      <th>TILEBT</th>\n",
       "      <th>BTLDA</th>\n",
       "      <th>TILEBTLDA</th>\n",
       "      <th>TN</th>\n",
       "      <th>TILETN</th>\n",
       "      <th>THI</th>\n",
       "      <th>TILETHI</th>\n",
       "      <th>TKET</th>\n",
       "      <th>F_DIEM1</th>\n",
       "      <th>F_DIEM2</th>\n",
       "    </tr>\n",
       "  </thead>\n",
       "  <tbody>\n",
       "    <tr>\n",
       "      <th>80038</th>\n",
       "      <td>2015</td>\n",
       "      <td>1</td>\n",
       "      <td>151</td>\n",
       "      <td>CO2001</td>\n",
       "      <td>Kỹnăng chnghiệp cho kỹsư</td>\n",
       "      <td>3.0</td>\n",
       "      <td>0</td>\n",
       "      <td>100</td>\n",
       "      <td>L02</td>\n",
       "      <td>NaN</td>\n",
       "      <td>...</td>\n",
       "      <td>NaN</td>\n",
       "      <td>NaN</td>\n",
       "      <td>NaN</td>\n",
       "      <td>NaN</td>\n",
       "      <td>NaN</td>\n",
       "      <td>8.00</td>\n",
       "      <td>100.0</td>\n",
       "      <td>8.0</td>\n",
       "      <td>NaN</td>\n",
       "      <td>NaN</td>\n",
       "    </tr>\n",
       "    <tr>\n",
       "      <th>80735</th>\n",
       "      <td>2015</td>\n",
       "      <td>1</td>\n",
       "      <td>151</td>\n",
       "      <td>CO2009</td>\n",
       "      <td>ThKế llý với verilog</td>\n",
       "      <td>4.0</td>\n",
       "      <td>20</td>\n",
       "      <td>80</td>\n",
       "      <td>L01</td>\n",
       "      <td>B</td>\n",
       "      <td>...</td>\n",
       "      <td>NaN</td>\n",
       "      <td>4.5</td>\n",
       "      <td>20.0</td>\n",
       "      <td>7.30</td>\n",
       "      <td>20.0</td>\n",
       "      <td>4.20</td>\n",
       "      <td>40.0</td>\n",
       "      <td>4.5</td>\n",
       "      <td>NaN</td>\n",
       "      <td>NaN</td>\n",
       "    </tr>\n",
       "    <tr>\n",
       "      <th>82705</th>\n",
       "      <td>2015</td>\n",
       "      <td>1</td>\n",
       "      <td>151</td>\n",
       "      <td>EE2001</td>\n",
       "      <td>Giải tích mạch cơ bản</td>\n",
       "      <td>3.0</td>\n",
       "      <td>20</td>\n",
       "      <td>80</td>\n",
       "      <td>L01</td>\n",
       "      <td>A</td>\n",
       "      <td>...</td>\n",
       "      <td>20.0</td>\n",
       "      <td>NaN</td>\n",
       "      <td>NaN</td>\n",
       "      <td>NaN</td>\n",
       "      <td>NaN</td>\n",
       "      <td>0.00</td>\n",
       "      <td>60.0</td>\n",
       "      <td>0.0</td>\n",
       "      <td>NaN</td>\n",
       "      <td>NaN</td>\n",
       "    </tr>\n",
       "    <tr>\n",
       "      <th>101685</th>\n",
       "      <td>2015</td>\n",
       "      <td>1</td>\n",
       "      <td>151</td>\n",
       "      <td>MT1009</td>\n",
       "      <td>Phương pháp tính</td>\n",
       "      <td>3.0</td>\n",
       "      <td>20</td>\n",
       "      <td>80</td>\n",
       "      <td>L07</td>\n",
       "      <td>B</td>\n",
       "      <td>...</td>\n",
       "      <td>NaN</td>\n",
       "      <td>8.0</td>\n",
       "      <td>20.0</td>\n",
       "      <td>NaN</td>\n",
       "      <td>NaN</td>\n",
       "      <td>1.50</td>\n",
       "      <td>60.0</td>\n",
       "      <td>1.5</td>\n",
       "      <td>NaN</td>\n",
       "      <td>NaN</td>\n",
       "    </tr>\n",
       "    <tr>\n",
       "      <th>187881</th>\n",
       "      <td>2015</td>\n",
       "      <td>2</td>\n",
       "      <td>152</td>\n",
       "      <td>CO2003</td>\n",
       "      <td>Ctrúc dữliệu &amp; giảithuật</td>\n",
       "      <td>4.0</td>\n",
       "      <td>0</td>\n",
       "      <td>100</td>\n",
       "      <td>L01</td>\n",
       "      <td>A</td>\n",
       "      <td>...</td>\n",
       "      <td>15.0</td>\n",
       "      <td>0.0</td>\n",
       "      <td>25.0</td>\n",
       "      <td>2.86</td>\n",
       "      <td>10.0</td>\n",
       "      <td>0.00</td>\n",
       "      <td>50.0</td>\n",
       "      <td>0.0</td>\n",
       "      <td>NaN</td>\n",
       "      <td>NaN</td>\n",
       "    </tr>\n",
       "    <tr>\n",
       "      <th>188020</th>\n",
       "      <td>2015</td>\n",
       "      <td>2</td>\n",
       "      <td>152</td>\n",
       "      <td>CO2007</td>\n",
       "      <td>Kiến trúc máy tính</td>\n",
       "      <td>4.0</td>\n",
       "      <td>20</td>\n",
       "      <td>80</td>\n",
       "      <td>L01</td>\n",
       "      <td>A</td>\n",
       "      <td>...</td>\n",
       "      <td>0.0</td>\n",
       "      <td>0.0</td>\n",
       "      <td>30.0</td>\n",
       "      <td>6.80</td>\n",
       "      <td>10.0</td>\n",
       "      <td>4.20</td>\n",
       "      <td>40.0</td>\n",
       "      <td>3.0</td>\n",
       "      <td>NaN</td>\n",
       "      <td>NaN</td>\n",
       "    </tr>\n",
       "    <tr>\n",
       "      <th>188396</th>\n",
       "      <td>2015</td>\n",
       "      <td>2</td>\n",
       "      <td>152</td>\n",
       "      <td>CO2015</td>\n",
       "      <td>Linh kiện &amp; mạch điện tử</td>\n",
       "      <td>3.0</td>\n",
       "      <td>20</td>\n",
       "      <td>80</td>\n",
       "      <td>L01</td>\n",
       "      <td>B</td>\n",
       "      <td>...</td>\n",
       "      <td>0.0</td>\n",
       "      <td>0.0</td>\n",
       "      <td>0.0</td>\n",
       "      <td>8.00</td>\n",
       "      <td>30.0</td>\n",
       "      <td>6.50</td>\n",
       "      <td>40.0</td>\n",
       "      <td>7.5</td>\n",
       "      <td>NaN</td>\n",
       "      <td>NaN</td>\n",
       "    </tr>\n",
       "    <tr>\n",
       "      <th>188562</th>\n",
       "      <td>2015</td>\n",
       "      <td>2</td>\n",
       "      <td>152</td>\n",
       "      <td>CO2019</td>\n",
       "      <td>Thựctập phầncứng máytính</td>\n",
       "      <td>2.0</td>\n",
       "      <td>0</td>\n",
       "      <td>100</td>\n",
       "      <td>L02</td>\n",
       "      <td>NaN</td>\n",
       "      <td>...</td>\n",
       "      <td>0.0</td>\n",
       "      <td>0.0</td>\n",
       "      <td>0.0</td>\n",
       "      <td>0.00</td>\n",
       "      <td>0.0</td>\n",
       "      <td>8.00</td>\n",
       "      <td>100.0</td>\n",
       "      <td>8.0</td>\n",
       "      <td>NaN</td>\n",
       "      <td>NaN</td>\n",
       "    </tr>\n",
       "    <tr>\n",
       "      <th>195951</th>\n",
       "      <td>2015</td>\n",
       "      <td>2</td>\n",
       "      <td>152</td>\n",
       "      <td>LA1003</td>\n",
       "      <td>Anh văn 1</td>\n",
       "      <td>2.0</td>\n",
       "      <td>20</td>\n",
       "      <td>80</td>\n",
       "      <td>L02</td>\n",
       "      <td>NaN</td>\n",
       "      <td>...</td>\n",
       "      <td>0.0</td>\n",
       "      <td>0.0</td>\n",
       "      <td>0.0</td>\n",
       "      <td>0.00</td>\n",
       "      <td>0.0</td>\n",
       "      <td>6.50</td>\n",
       "      <td>60.0</td>\n",
       "      <td>7.0</td>\n",
       "      <td>NaN</td>\n",
       "      <td>NaN</td>\n",
       "    </tr>\n",
       "    <tr>\n",
       "      <th>210948</th>\n",
       "      <td>2015</td>\n",
       "      <td>2</td>\n",
       "      <td>152</td>\n",
       "      <td>PE1007</td>\n",
       "      <td>Giáo dục thể chất 3</td>\n",
       "      <td>0.0</td>\n",
       "      <td>0</td>\n",
       "      <td>100</td>\n",
       "      <td>L10</td>\n",
       "      <td>NaN</td>\n",
       "      <td>...</td>\n",
       "      <td>0.0</td>\n",
       "      <td>0.0</td>\n",
       "      <td>0.0</td>\n",
       "      <td>0.00</td>\n",
       "      <td>0.0</td>\n",
       "      <td>8.00</td>\n",
       "      <td>100.0</td>\n",
       "      <td>8.0</td>\n",
       "      <td>NaN</td>\n",
       "      <td>NaN</td>\n",
       "    </tr>\n",
       "    <tr>\n",
       "      <th>214961</th>\n",
       "      <td>2015</td>\n",
       "      <td>2</td>\n",
       "      <td>152</td>\n",
       "      <td>PH1007</td>\n",
       "      <td>Thí nghiệm vật lý</td>\n",
       "      <td>1.0</td>\n",
       "      <td>0</td>\n",
       "      <td>100</td>\n",
       "      <td>L33</td>\n",
       "      <td>NaN</td>\n",
       "      <td>...</td>\n",
       "      <td>0.0</td>\n",
       "      <td>0.0</td>\n",
       "      <td>0.0</td>\n",
       "      <td>9.00</td>\n",
       "      <td>50.0</td>\n",
       "      <td>8.00</td>\n",
       "      <td>50.0</td>\n",
       "      <td>8.5</td>\n",
       "      <td>NaN</td>\n",
       "      <td>NaN</td>\n",
       "    </tr>\n",
       "    <tr>\n",
       "      <th>228981</th>\n",
       "      <td>2015</td>\n",
       "      <td>3</td>\n",
       "      <td>153</td>\n",
       "      <td>MT1005</td>\n",
       "      <td>Giải tích 2</td>\n",
       "      <td>4.0</td>\n",
       "      <td>20</td>\n",
       "      <td>80</td>\n",
       "      <td>DT02</td>\n",
       "      <td>AB</td>\n",
       "      <td>...</td>\n",
       "      <td>NaN</td>\n",
       "      <td>NaN</td>\n",
       "      <td>NaN</td>\n",
       "      <td>NaN</td>\n",
       "      <td>NaN</td>\n",
       "      <td>NaN</td>\n",
       "      <td>NaN</td>\n",
       "      <td>8.0</td>\n",
       "      <td>NaN</td>\n",
       "      <td>8.0</td>\n",
       "    </tr>\n",
       "    <tr>\n",
       "      <th>229207</th>\n",
       "      <td>2015</td>\n",
       "      <td>3</td>\n",
       "      <td>153</td>\n",
       "      <td>MT1007</td>\n",
       "      <td>Đại số tuyến tính</td>\n",
       "      <td>3.0</td>\n",
       "      <td>20</td>\n",
       "      <td>80</td>\n",
       "      <td>DT03</td>\n",
       "      <td>AA</td>\n",
       "      <td>...</td>\n",
       "      <td>NaN</td>\n",
       "      <td>NaN</td>\n",
       "      <td>NaN</td>\n",
       "      <td>NaN</td>\n",
       "      <td>NaN</td>\n",
       "      <td>NaN</td>\n",
       "      <td>NaN</td>\n",
       "      <td>8.0</td>\n",
       "      <td>NaN</td>\n",
       "      <td>8.0</td>\n",
       "    </tr>\n",
       "    <tr>\n",
       "      <th>229379</th>\n",
       "      <td>2015</td>\n",
       "      <td>3</td>\n",
       "      <td>153</td>\n",
       "      <td>MT1009</td>\n",
       "      <td>Phương pháp tính</td>\n",
       "      <td>3.0</td>\n",
       "      <td>20</td>\n",
       "      <td>80</td>\n",
       "      <td>DT02</td>\n",
       "      <td>A</td>\n",
       "      <td>...</td>\n",
       "      <td>NaN</td>\n",
       "      <td>NaN</td>\n",
       "      <td>NaN</td>\n",
       "      <td>NaN</td>\n",
       "      <td>NaN</td>\n",
       "      <td>NaN</td>\n",
       "      <td>NaN</td>\n",
       "      <td>8.0</td>\n",
       "      <td>NaN</td>\n",
       "      <td>8.0</td>\n",
       "    </tr>\n",
       "    <tr>\n",
       "      <th>301271</th>\n",
       "      <td>2016</td>\n",
       "      <td>1</td>\n",
       "      <td>161</td>\n",
       "      <td>CO2009</td>\n",
       "      <td>ThKế llý với verilog</td>\n",
       "      <td>4.0</td>\n",
       "      <td>20</td>\n",
       "      <td>80</td>\n",
       "      <td>L01</td>\n",
       "      <td>B</td>\n",
       "      <td>...</td>\n",
       "      <td>0.0</td>\n",
       "      <td>0.0</td>\n",
       "      <td>20.0</td>\n",
       "      <td>8.50</td>\n",
       "      <td>20.0</td>\n",
       "      <td>5.70</td>\n",
       "      <td>40.0</td>\n",
       "      <td>5.5</td>\n",
       "      <td>NaN</td>\n",
       "      <td>NaN</td>\n",
       "    </tr>\n",
       "    <tr>\n",
       "      <th>301472</th>\n",
       "      <td>2016</td>\n",
       "      <td>1</td>\n",
       "      <td>161</td>\n",
       "      <td>CO2029</td>\n",
       "      <td>Xử lý tín hiệu số</td>\n",
       "      <td>4.0</td>\n",
       "      <td>20</td>\n",
       "      <td>80</td>\n",
       "      <td>L01</td>\n",
       "      <td>B</td>\n",
       "      <td>...</td>\n",
       "      <td>0.0</td>\n",
       "      <td>0.0</td>\n",
       "      <td>0.0</td>\n",
       "      <td>6.00</td>\n",
       "      <td>30.0</td>\n",
       "      <td>5.50</td>\n",
       "      <td>50.0</td>\n",
       "      <td>5.5</td>\n",
       "      <td>NaN</td>\n",
       "      <td>NaN</td>\n",
       "    </tr>\n",
       "    <tr>\n",
       "      <th>301533</th>\n",
       "      <td>2016</td>\n",
       "      <td>1</td>\n",
       "      <td>161</td>\n",
       "      <td>CO2031</td>\n",
       "      <td>Kỹ thuật truyền số liệu</td>\n",
       "      <td>3.0</td>\n",
       "      <td>20</td>\n",
       "      <td>80</td>\n",
       "      <td>L01</td>\n",
       "      <td>B</td>\n",
       "      <td>...</td>\n",
       "      <td>0.0</td>\n",
       "      <td>0.0</td>\n",
       "      <td>0.0</td>\n",
       "      <td>3.00</td>\n",
       "      <td>30.0</td>\n",
       "      <td>7.50</td>\n",
       "      <td>50.0</td>\n",
       "      <td>5.5</td>\n",
       "      <td>NaN</td>\n",
       "      <td>NaN</td>\n",
       "    </tr>\n",
       "    <tr>\n",
       "      <th>302312</th>\n",
       "      <td>2016</td>\n",
       "      <td>1</td>\n",
       "      <td>161</td>\n",
       "      <td>CO3009</td>\n",
       "      <td>Vi xử lý - vi điều khiển</td>\n",
       "      <td>3.0</td>\n",
       "      <td>20</td>\n",
       "      <td>80</td>\n",
       "      <td>L01</td>\n",
       "      <td>B</td>\n",
       "      <td>...</td>\n",
       "      <td>0.0</td>\n",
       "      <td>0.0</td>\n",
       "      <td>0.0</td>\n",
       "      <td>2.50</td>\n",
       "      <td>30.0</td>\n",
       "      <td>9.50</td>\n",
       "      <td>50.0</td>\n",
       "      <td>7.0</td>\n",
       "      <td>NaN</td>\n",
       "      <td>NaN</td>\n",
       "    </tr>\n",
       "    <tr>\n",
       "      <th>304065</th>\n",
       "      <td>2016</td>\n",
       "      <td>1</td>\n",
       "      <td>161</td>\n",
       "      <td>EE2001</td>\n",
       "      <td>Giải tích mạch cơ bản</td>\n",
       "      <td>3.0</td>\n",
       "      <td>20</td>\n",
       "      <td>80</td>\n",
       "      <td>L01</td>\n",
       "      <td>A</td>\n",
       "      <td>...</td>\n",
       "      <td>20.0</td>\n",
       "      <td>0.0</td>\n",
       "      <td>0.0</td>\n",
       "      <td>0.00</td>\n",
       "      <td>0.0</td>\n",
       "      <td>4.00</td>\n",
       "      <td>60.0</td>\n",
       "      <td>4.0</td>\n",
       "      <td>NaN</td>\n",
       "      <td>NaN</td>\n",
       "    </tr>\n",
       "    <tr>\n",
       "      <th>342460</th>\n",
       "      <td>2016</td>\n",
       "      <td>1</td>\n",
       "      <td>161</td>\n",
       "      <td>PH1005</td>\n",
       "      <td>Vật lý 2</td>\n",
       "      <td>4.0</td>\n",
       "      <td>30</td>\n",
       "      <td>70</td>\n",
       "      <td>L01</td>\n",
       "      <td>A</td>\n",
       "      <td>...</td>\n",
       "      <td>10.0</td>\n",
       "      <td>9.0</td>\n",
       "      <td>10.0</td>\n",
       "      <td>0.00</td>\n",
       "      <td>0.0</td>\n",
       "      <td>7.00</td>\n",
       "      <td>50.0</td>\n",
       "      <td>7.0</td>\n",
       "      <td>NaN</td>\n",
       "      <td>NaN</td>\n",
       "    </tr>\n",
       "    <tr>\n",
       "      <th>379084</th>\n",
       "      <td>2016</td>\n",
       "      <td>2</td>\n",
       "      <td>162</td>\n",
       "      <td>CO2007</td>\n",
       "      <td>Kiến trúc máy tính</td>\n",
       "      <td>4.0</td>\n",
       "      <td>20</td>\n",
       "      <td>80</td>\n",
       "      <td>L01</td>\n",
       "      <td>B</td>\n",
       "      <td>...</td>\n",
       "      <td>0.0</td>\n",
       "      <td>5.0</td>\n",
       "      <td>30.0</td>\n",
       "      <td>13.00</td>\n",
       "      <td>10.0</td>\n",
       "      <td>6.00</td>\n",
       "      <td>40.0</td>\n",
       "      <td>5.5</td>\n",
       "      <td>NaN</td>\n",
       "      <td>NaN</td>\n",
       "    </tr>\n",
       "    <tr>\n",
       "      <th>379584</th>\n",
       "      <td>2016</td>\n",
       "      <td>2</td>\n",
       "      <td>162</td>\n",
       "      <td>CO3003</td>\n",
       "      <td>Mạng máy tính</td>\n",
       "      <td>4.0</td>\n",
       "      <td>0</td>\n",
       "      <td>100</td>\n",
       "      <td>L01</td>\n",
       "      <td>A</td>\n",
       "      <td>...</td>\n",
       "      <td>0.0</td>\n",
       "      <td>3.5</td>\n",
       "      <td>30.0</td>\n",
       "      <td>0.00</td>\n",
       "      <td>10.0</td>\n",
       "      <td>4.50</td>\n",
       "      <td>60.0</td>\n",
       "      <td>4.0</td>\n",
       "      <td>NaN</td>\n",
       "      <td>NaN</td>\n",
       "    </tr>\n",
       "    <tr>\n",
       "      <th>394161</th>\n",
       "      <td>2016</td>\n",
       "      <td>2</td>\n",
       "      <td>162</td>\n",
       "      <td>MT2001</td>\n",
       "      <td>Xác suất và thống kê</td>\n",
       "      <td>3.0</td>\n",
       "      <td>20</td>\n",
       "      <td>80</td>\n",
       "      <td>L09</td>\n",
       "      <td>A</td>\n",
       "      <td>...</td>\n",
       "      <td>0.0</td>\n",
       "      <td>5.5</td>\n",
       "      <td>20.0</td>\n",
       "      <td>NaN</td>\n",
       "      <td>0.0</td>\n",
       "      <td>3.50</td>\n",
       "      <td>60.0</td>\n",
       "      <td>4.5</td>\n",
       "      <td>NaN</td>\n",
       "      <td>NaN</td>\n",
       "    </tr>\n",
       "    <tr>\n",
       "      <th>400702</th>\n",
       "      <td>2016</td>\n",
       "      <td>2</td>\n",
       "      <td>162</td>\n",
       "      <td>CO2021</td>\n",
       "      <td>ĐAMH thiết kế luận lý</td>\n",
       "      <td>1.0</td>\n",
       "      <td>0</td>\n",
       "      <td>100</td>\n",
       "      <td>L02</td>\n",
       "      <td>_</td>\n",
       "      <td>...</td>\n",
       "      <td>NaN</td>\n",
       "      <td>NaN</td>\n",
       "      <td>NaN</td>\n",
       "      <td>NaN</td>\n",
       "      <td>NaN</td>\n",
       "      <td>9.00</td>\n",
       "      <td>100.0</td>\n",
       "      <td>9.0</td>\n",
       "      <td>NaN</td>\n",
       "      <td>NaN</td>\n",
       "    </tr>\n",
       "    <tr>\n",
       "      <th>401502</th>\n",
       "      <td>2016</td>\n",
       "      <td>2</td>\n",
       "      <td>162</td>\n",
       "      <td>CO3053</td>\n",
       "      <td>Hệ thống nhúng</td>\n",
       "      <td>3.0</td>\n",
       "      <td>20</td>\n",
       "      <td>80</td>\n",
       "      <td>L01</td>\n",
       "      <td>B</td>\n",
       "      <td>...</td>\n",
       "      <td>NaN</td>\n",
       "      <td>NaN</td>\n",
       "      <td>NaN</td>\n",
       "      <td>3.50</td>\n",
       "      <td>30.0</td>\n",
       "      <td>7.00</td>\n",
       "      <td>50.0</td>\n",
       "      <td>5.5</td>\n",
       "      <td>NaN</td>\n",
       "      <td>NaN</td>\n",
       "    </tr>\n",
       "    <tr>\n",
       "      <th>418691</th>\n",
       "      <td>2016</td>\n",
       "      <td>2</td>\n",
       "      <td>162</td>\n",
       "      <td>CO3063</td>\n",
       "      <td>Đồ án môn học kỹthuật mt</td>\n",
       "      <td>2.0</td>\n",
       "      <td>0</td>\n",
       "      <td>100</td>\n",
       "      <td>L02</td>\n",
       "      <td>_</td>\n",
       "      <td>...</td>\n",
       "      <td>NaN</td>\n",
       "      <td>NaN</td>\n",
       "      <td>NaN</td>\n",
       "      <td>NaN</td>\n",
       "      <td>NaN</td>\n",
       "      <td>8.50</td>\n",
       "      <td>100.0</td>\n",
       "      <td>8.5</td>\n",
       "      <td>NaN</td>\n",
       "      <td>NaN</td>\n",
       "    </tr>\n",
       "    <tr>\n",
       "      <th>436044</th>\n",
       "      <td>2016</td>\n",
       "      <td>2</td>\n",
       "      <td>162</td>\n",
       "      <td>CO1011</td>\n",
       "      <td>Kỹ thuật lập trình</td>\n",
       "      <td>4.0</td>\n",
       "      <td>0</td>\n",
       "      <td>100</td>\n",
       "      <td>L01</td>\n",
       "      <td>B</td>\n",
       "      <td>...</td>\n",
       "      <td>NaN</td>\n",
       "      <td>0.0</td>\n",
       "      <td>30.0</td>\n",
       "      <td>0.00</td>\n",
       "      <td>20.0</td>\n",
       "      <td>0.65</td>\n",
       "      <td>50.0</td>\n",
       "      <td>0.0</td>\n",
       "      <td>NaN</td>\n",
       "      <td>NaN</td>\n",
       "    </tr>\n",
       "    <tr>\n",
       "      <th>451585</th>\n",
       "      <td>2016</td>\n",
       "      <td>3</td>\n",
       "      <td>163</td>\n",
       "      <td>SP1003</td>\n",
       "      <td>Những NgLý cơbản CN M-Lê</td>\n",
       "      <td>5.0</td>\n",
       "      <td>30</td>\n",
       "      <td>70</td>\n",
       "      <td>DT05</td>\n",
       "      <td>A</td>\n",
       "      <td>...</td>\n",
       "      <td>20.0</td>\n",
       "      <td>NaN</td>\n",
       "      <td>NaN</td>\n",
       "      <td>NaN</td>\n",
       "      <td>NaN</td>\n",
       "      <td>5.50</td>\n",
       "      <td>50.0</td>\n",
       "      <td>7.0</td>\n",
       "      <td>NaN</td>\n",
       "      <td>NaN</td>\n",
       "    </tr>\n",
       "    <tr>\n",
       "      <th>456397</th>\n",
       "      <td>2016</td>\n",
       "      <td>3</td>\n",
       "      <td>163</td>\n",
       "      <td>EE2001</td>\n",
       "      <td>Giải tích mạch cơ bản</td>\n",
       "      <td>3.0</td>\n",
       "      <td>20</td>\n",
       "      <td>80</td>\n",
       "      <td>DT01</td>\n",
       "      <td>_</td>\n",
       "      <td>...</td>\n",
       "      <td>20.0</td>\n",
       "      <td>NaN</td>\n",
       "      <td>NaN</td>\n",
       "      <td>NaN</td>\n",
       "      <td>NaN</td>\n",
       "      <td>3.50</td>\n",
       "      <td>60.0</td>\n",
       "      <td>6.0</td>\n",
       "      <td>NaN</td>\n",
       "      <td>NaN</td>\n",
       "    </tr>\n",
       "    <tr>\n",
       "      <th>484114</th>\n",
       "      <td>2017</td>\n",
       "      <td>1</td>\n",
       "      <td>171</td>\n",
       "      <td>SP1007</td>\n",
       "      <td>Ph/luật ViệtNam đạicương</td>\n",
       "      <td>2.0</td>\n",
       "      <td>30</td>\n",
       "      <td>70</td>\n",
       "      <td>DT01</td>\n",
       "      <td>A</td>\n",
       "      <td>...</td>\n",
       "      <td>NaN</td>\n",
       "      <td>NaN</td>\n",
       "      <td>NaN</td>\n",
       "      <td>NaN</td>\n",
       "      <td>NaN</td>\n",
       "      <td>7.60</td>\n",
       "      <td>70.0</td>\n",
       "      <td>7.0</td>\n",
       "      <td>NaN</td>\n",
       "      <td>NaN</td>\n",
       "    </tr>\n",
       "    <tr>\n",
       "      <th>490808</th>\n",
       "      <td>2017</td>\n",
       "      <td>1</td>\n",
       "      <td>171</td>\n",
       "      <td>CO3001</td>\n",
       "      <td>Công nghệ phần mềm</td>\n",
       "      <td>3.0</td>\n",
       "      <td>0</td>\n",
       "      <td>100</td>\n",
       "      <td>L01</td>\n",
       "      <td>A</td>\n",
       "      <td>...</td>\n",
       "      <td>10.0</td>\n",
       "      <td>5.8</td>\n",
       "      <td>30.0</td>\n",
       "      <td>NaN</td>\n",
       "      <td>NaN</td>\n",
       "      <td>4.10</td>\n",
       "      <td>60.0</td>\n",
       "      <td>4.5</td>\n",
       "      <td>NaN</td>\n",
       "      <td>NaN</td>\n",
       "    </tr>\n",
       "    <tr>\n",
       "      <th>495158</th>\n",
       "      <td>2017</td>\n",
       "      <td>1</td>\n",
       "      <td>171</td>\n",
       "      <td>MT2001</td>\n",
       "      <td>Xác suất và thống kê</td>\n",
       "      <td>3.0</td>\n",
       "      <td>20</td>\n",
       "      <td>80</td>\n",
       "      <td>L05</td>\n",
       "      <td>A</td>\n",
       "      <td>...</td>\n",
       "      <td>NaN</td>\n",
       "      <td>7.0</td>\n",
       "      <td>20.0</td>\n",
       "      <td>NaN</td>\n",
       "      <td>NaN</td>\n",
       "      <td>2.50</td>\n",
       "      <td>60.0</td>\n",
       "      <td>2.5</td>\n",
       "      <td>NaN</td>\n",
       "      <td>NaN</td>\n",
       "    </tr>\n",
       "    <tr>\n",
       "      <th>503520</th>\n",
       "      <td>2017</td>\n",
       "      <td>1</td>\n",
       "      <td>171</td>\n",
       "      <td>SP1005</td>\n",
       "      <td>Tư tưởng Hồ Chí Minh</td>\n",
       "      <td>2.0</td>\n",
       "      <td>20</td>\n",
       "      <td>80</td>\n",
       "      <td>L06</td>\n",
       "      <td>A</td>\n",
       "      <td>...</td>\n",
       "      <td>20.0</td>\n",
       "      <td>NaN</td>\n",
       "      <td>NaN</td>\n",
       "      <td>NaN</td>\n",
       "      <td>NaN</td>\n",
       "      <td>6.00</td>\n",
       "      <td>60.0</td>\n",
       "      <td>6.5</td>\n",
       "      <td>NaN</td>\n",
       "      <td>NaN</td>\n",
       "    </tr>\n",
       "    <tr>\n",
       "      <th>523178</th>\n",
       "      <td>2017</td>\n",
       "      <td>1</td>\n",
       "      <td>171</td>\n",
       "      <td>CO2017</td>\n",
       "      <td>Hệ điều hành</td>\n",
       "      <td>3.0</td>\n",
       "      <td>0</td>\n",
       "      <td>100</td>\n",
       "      <td>L01</td>\n",
       "      <td>B</td>\n",
       "      <td>...</td>\n",
       "      <td>10.0</td>\n",
       "      <td>3.5</td>\n",
       "      <td>30.0</td>\n",
       "      <td>7.00</td>\n",
       "      <td>10.0</td>\n",
       "      <td>5.50</td>\n",
       "      <td>50.0</td>\n",
       "      <td>5.5</td>\n",
       "      <td>NaN</td>\n",
       "      <td>NaN</td>\n",
       "    </tr>\n",
       "    <tr>\n",
       "      <th>545252</th>\n",
       "      <td>2017</td>\n",
       "      <td>1</td>\n",
       "      <td>171</td>\n",
       "      <td>CO3007</td>\n",
       "      <td>Đánhgiá hiệunăng hệ thốg</td>\n",
       "      <td>3.0</td>\n",
       "      <td>0</td>\n",
       "      <td>100</td>\n",
       "      <td>L01</td>\n",
       "      <td>A</td>\n",
       "      <td>...</td>\n",
       "      <td>NaN</td>\n",
       "      <td>7.0</td>\n",
       "      <td>50.0</td>\n",
       "      <td>NaN</td>\n",
       "      <td>NaN</td>\n",
       "      <td>6.50</td>\n",
       "      <td>50.0</td>\n",
       "      <td>7.0</td>\n",
       "      <td>NaN</td>\n",
       "      <td>NaN</td>\n",
       "    </tr>\n",
       "    <tr>\n",
       "      <th>554705</th>\n",
       "      <td>2017</td>\n",
       "      <td>1</td>\n",
       "      <td>171</td>\n",
       "      <td>LA1005</td>\n",
       "      <td>Anh văn 2</td>\n",
       "      <td>2.0</td>\n",
       "      <td>20</td>\n",
       "      <td>80</td>\n",
       "      <td>L05</td>\n",
       "      <td>A</td>\n",
       "      <td>...</td>\n",
       "      <td>NaN</td>\n",
       "      <td>NaN</td>\n",
       "      <td>NaN</td>\n",
       "      <td>NaN</td>\n",
       "      <td>NaN</td>\n",
       "      <td>4.63</td>\n",
       "      <td>60.0</td>\n",
       "      <td>4.0</td>\n",
       "      <td>NaN</td>\n",
       "      <td>NaN</td>\n",
       "    </tr>\n",
       "    <tr>\n",
       "      <th>575112</th>\n",
       "      <td>2017</td>\n",
       "      <td>1</td>\n",
       "      <td>171</td>\n",
       "      <td>CO2003</td>\n",
       "      <td>Ctrúc dữliệu &amp; giảithuật</td>\n",
       "      <td>4.0</td>\n",
       "      <td>0</td>\n",
       "      <td>100</td>\n",
       "      <td>L03</td>\n",
       "      <td>B</td>\n",
       "      <td>...</td>\n",
       "      <td>15.0</td>\n",
       "      <td>0.0</td>\n",
       "      <td>25.0</td>\n",
       "      <td>3.40</td>\n",
       "      <td>10.0</td>\n",
       "      <td>1.80</td>\n",
       "      <td>50.0</td>\n",
       "      <td>2.0</td>\n",
       "      <td>NaN</td>\n",
       "      <td>NaN</td>\n",
       "    </tr>\n",
       "    <tr>\n",
       "      <th>606244</th>\n",
       "      <td>2017</td>\n",
       "      <td>2</td>\n",
       "      <td>172</td>\n",
       "      <td>EN1003</td>\n",
       "      <td>Con người và môi trường</td>\n",
       "      <td>3.0</td>\n",
       "      <td>0</td>\n",
       "      <td>100</td>\n",
       "      <td>L02</td>\n",
       "      <td>A</td>\n",
       "      <td>...</td>\n",
       "      <td>30.0</td>\n",
       "      <td>9.0</td>\n",
       "      <td>20.0</td>\n",
       "      <td>NaN</td>\n",
       "      <td>NaN</td>\n",
       "      <td>7.00</td>\n",
       "      <td>50.0</td>\n",
       "      <td>7.5</td>\n",
       "      <td>NaN</td>\n",
       "      <td>NaN</td>\n",
       "    </tr>\n",
       "    <tr>\n",
       "      <th>618122</th>\n",
       "      <td>2017</td>\n",
       "      <td>2</td>\n",
       "      <td>172</td>\n",
       "      <td>SP1009</td>\n",
       "      <td>Đườnglối CM của ĐảngCSVN</td>\n",
       "      <td>3.0</td>\n",
       "      <td>30</td>\n",
       "      <td>70</td>\n",
       "      <td>L08</td>\n",
       "      <td>A</td>\n",
       "      <td>...</td>\n",
       "      <td>20.0</td>\n",
       "      <td>NaN</td>\n",
       "      <td>NaN</td>\n",
       "      <td>NaN</td>\n",
       "      <td>NaN</td>\n",
       "      <td>5.50</td>\n",
       "      <td>50.0</td>\n",
       "      <td>6.0</td>\n",
       "      <td>NaN</td>\n",
       "      <td>NaN</td>\n",
       "    </tr>\n",
       "    <tr>\n",
       "      <th>622730</th>\n",
       "      <td>2017</td>\n",
       "      <td>2</td>\n",
       "      <td>172</td>\n",
       "      <td>CO3025</td>\n",
       "      <td>Phân tích và thiết kế ht</td>\n",
       "      <td>4.0</td>\n",
       "      <td>30</td>\n",
       "      <td>70</td>\n",
       "      <td>L01</td>\n",
       "      <td>_</td>\n",
       "      <td>...</td>\n",
       "      <td>NaN</td>\n",
       "      <td>NaN</td>\n",
       "      <td>NaN</td>\n",
       "      <td>NaN</td>\n",
       "      <td>NaN</td>\n",
       "      <td>6.50</td>\n",
       "      <td>70.0</td>\n",
       "      <td>7.0</td>\n",
       "      <td>NaN</td>\n",
       "      <td>NaN</td>\n",
       "    </tr>\n",
       "    <tr>\n",
       "      <th>637624</th>\n",
       "      <td>2017</td>\n",
       "      <td>2</td>\n",
       "      <td>172</td>\n",
       "      <td>LA1007</td>\n",
       "      <td>Anh văn 3</td>\n",
       "      <td>2.0</td>\n",
       "      <td>20</td>\n",
       "      <td>80</td>\n",
       "      <td>L10</td>\n",
       "      <td>A</td>\n",
       "      <td>...</td>\n",
       "      <td>30.0</td>\n",
       "      <td>NaN</td>\n",
       "      <td>NaN</td>\n",
       "      <td>NaN</td>\n",
       "      <td>NaN</td>\n",
       "      <td>0.00</td>\n",
       "      <td>50.0</td>\n",
       "      <td>0.0</td>\n",
       "      <td>NaN</td>\n",
       "      <td>NaN</td>\n",
       "    </tr>\n",
       "    <tr>\n",
       "      <th>650083</th>\n",
       "      <td>2017</td>\n",
       "      <td>2</td>\n",
       "      <td>172</td>\n",
       "      <td>CO3003</td>\n",
       "      <td>Mạng máy tính</td>\n",
       "      <td>4.0</td>\n",
       "      <td>0</td>\n",
       "      <td>100</td>\n",
       "      <td>L01</td>\n",
       "      <td>B</td>\n",
       "      <td>...</td>\n",
       "      <td>NaN</td>\n",
       "      <td>3.0</td>\n",
       "      <td>30.0</td>\n",
       "      <td>4.00</td>\n",
       "      <td>10.0</td>\n",
       "      <td>3.00</td>\n",
       "      <td>60.0</td>\n",
       "      <td>3.0</td>\n",
       "      <td>NaN</td>\n",
       "      <td>NaN</td>\n",
       "    </tr>\n",
       "    <tr>\n",
       "      <th>654855</th>\n",
       "      <td>2017</td>\n",
       "      <td>2</td>\n",
       "      <td>172</td>\n",
       "      <td>MT2001</td>\n",
       "      <td>Xác suất và thống kê</td>\n",
       "      <td>3.0</td>\n",
       "      <td>20</td>\n",
       "      <td>80</td>\n",
       "      <td>L05</td>\n",
       "      <td>A</td>\n",
       "      <td>...</td>\n",
       "      <td>NaN</td>\n",
       "      <td>6.5</td>\n",
       "      <td>20.0</td>\n",
       "      <td>NaN</td>\n",
       "      <td>NaN</td>\n",
       "      <td>1.50</td>\n",
       "      <td>60.0</td>\n",
       "      <td>1.5</td>\n",
       "      <td>NaN</td>\n",
       "      <td>NaN</td>\n",
       "    </tr>\n",
       "  </tbody>\n",
       "</table>\n",
       "<p>43 rows × 30 columns</p>\n",
       "</div>"
      ],
      "text/plain": [
       "        NAMHOC  TENHK  NHHK  F_MAMH                 F_TENMHVN  F_DVHT  \\\n",
       "80038     2015      1   151  CO2001  Kỹnăng chnghiệp cho kỹsư     3.0   \n",
       "80735     2015      1   151  CO2009      ThKế llý với verilog     4.0   \n",
       "82705     2015      1   151  EE2001     Giải tích mạch cơ bản     3.0   \n",
       "101685    2015      1   151  MT1009          Phương pháp tính     3.0   \n",
       "187881    2015      2   152  CO2003  Ctrúc dữliệu & giảithuật     4.0   \n",
       "188020    2015      2   152  CO2007        Kiến trúc máy tính     4.0   \n",
       "188396    2015      2   152  CO2015  Linh kiện & mạch điện tử     3.0   \n",
       "188562    2015      2   152  CO2019  Thựctập phầncứng máytính     2.0   \n",
       "195951    2015      2   152  LA1003                 Anh văn 1     2.0   \n",
       "210948    2015      2   152  PE1007       Giáo dục thể chất 3     0.0   \n",
       "214961    2015      2   152  PH1007         Thí nghiệm vật lý     1.0   \n",
       "228981    2015      3   153  MT1005               Giải tích 2     4.0   \n",
       "229207    2015      3   153  MT1007         Đại số tuyến tính     3.0   \n",
       "229379    2015      3   153  MT1009          Phương pháp tính     3.0   \n",
       "301271    2016      1   161  CO2009      ThKế llý với verilog     4.0   \n",
       "301472    2016      1   161  CO2029         Xử lý tín hiệu số     4.0   \n",
       "301533    2016      1   161  CO2031   Kỹ thuật truyền số liệu     3.0   \n",
       "302312    2016      1   161  CO3009  Vi xử lý - vi điều khiển     3.0   \n",
       "304065    2016      1   161  EE2001     Giải tích mạch cơ bản     3.0   \n",
       "342460    2016      1   161  PH1005                  Vật lý 2     4.0   \n",
       "379084    2016      2   162  CO2007        Kiến trúc máy tính     4.0   \n",
       "379584    2016      2   162  CO3003             Mạng máy tính     4.0   \n",
       "394161    2016      2   162  MT2001      Xác suất và thống kê     3.0   \n",
       "400702    2016      2   162  CO2021     ĐAMH thiết kế luận lý     1.0   \n",
       "401502    2016      2   162  CO3053            Hệ thống nhúng     3.0   \n",
       "418691    2016      2   162  CO3063  Đồ án môn học kỹthuật mt     2.0   \n",
       "436044    2016      2   162  CO1011        Kỹ thuật lập trình     4.0   \n",
       "451585    2016      3   163  SP1003  Những NgLý cơbản CN M-Lê     5.0   \n",
       "456397    2016      3   163  EE2001     Giải tích mạch cơ bản     3.0   \n",
       "484114    2017      1   171  SP1007  Ph/luật ViệtNam đạicương     2.0   \n",
       "490808    2017      1   171  CO3001        Công nghệ phần mềm     3.0   \n",
       "495158    2017      1   171  MT2001      Xác suất và thống kê     3.0   \n",
       "503520    2017      1   171  SP1005      Tư tưởng Hồ Chí Minh     2.0   \n",
       "523178    2017      1   171  CO2017              Hệ điều hành     3.0   \n",
       "545252    2017      1   171  CO3007  Đánhgiá hiệunăng hệ thốg     3.0   \n",
       "554705    2017      1   171  LA1005                 Anh văn 2     2.0   \n",
       "575112    2017      1   171  CO2003  Ctrúc dữliệu & giảithuật     4.0   \n",
       "606244    2017      2   172  EN1003   Con người và môi trường     3.0   \n",
       "618122    2017      2   172  SP1009  Đườnglối CM của ĐảngCSVN     3.0   \n",
       "622730    2017      2   172  CO3025  Phân tích và thiết kế ht     4.0   \n",
       "637624    2017      2   172  LA1007                 Anh văn 3     2.0   \n",
       "650083    2017      2   172  CO3003             Mạng máy tính     4.0   \n",
       "654855    2017      2   172  MT2001      Xác suất và thống kê     3.0   \n",
       "\n",
       "        F_PHTRAMKT  F_PHTRAMTH F_MANH F_TO  ...  TILEBT BTLDA TILEBTLDA  \\\n",
       "80038            0         100    L02  NaN  ...     NaN   NaN       NaN   \n",
       "80735           20          80    L01    B  ...     NaN   4.5      20.0   \n",
       "82705           20          80    L01    A  ...    20.0   NaN       NaN   \n",
       "101685          20          80    L07    B  ...     NaN   8.0      20.0   \n",
       "187881           0         100    L01    A  ...    15.0   0.0      25.0   \n",
       "188020          20          80    L01    A  ...     0.0   0.0      30.0   \n",
       "188396          20          80    L01    B  ...     0.0   0.0       0.0   \n",
       "188562           0         100    L02  NaN  ...     0.0   0.0       0.0   \n",
       "195951          20          80    L02  NaN  ...     0.0   0.0       0.0   \n",
       "210948           0         100    L10  NaN  ...     0.0   0.0       0.0   \n",
       "214961           0         100    L33  NaN  ...     0.0   0.0       0.0   \n",
       "228981          20          80   DT02   AB  ...     NaN   NaN       NaN   \n",
       "229207          20          80   DT03   AA  ...     NaN   NaN       NaN   \n",
       "229379          20          80   DT02    A  ...     NaN   NaN       NaN   \n",
       "301271          20          80    L01    B  ...     0.0   0.0      20.0   \n",
       "301472          20          80    L01    B  ...     0.0   0.0       0.0   \n",
       "301533          20          80    L01    B  ...     0.0   0.0       0.0   \n",
       "302312          20          80    L01    B  ...     0.0   0.0       0.0   \n",
       "304065          20          80    L01    A  ...    20.0   0.0       0.0   \n",
       "342460          30          70    L01    A  ...    10.0   9.0      10.0   \n",
       "379084          20          80    L01    B  ...     0.0   5.0      30.0   \n",
       "379584           0         100    L01    A  ...     0.0   3.5      30.0   \n",
       "394161          20          80    L09    A  ...     0.0   5.5      20.0   \n",
       "400702           0         100    L02    _  ...     NaN   NaN       NaN   \n",
       "401502          20          80    L01    B  ...     NaN   NaN       NaN   \n",
       "418691           0         100    L02    _  ...     NaN   NaN       NaN   \n",
       "436044           0         100    L01    B  ...     NaN   0.0      30.0   \n",
       "451585          30          70   DT05    A  ...    20.0   NaN       NaN   \n",
       "456397          20          80   DT01    _  ...    20.0   NaN       NaN   \n",
       "484114          30          70   DT01    A  ...     NaN   NaN       NaN   \n",
       "490808           0         100    L01    A  ...    10.0   5.8      30.0   \n",
       "495158          20          80    L05    A  ...     NaN   7.0      20.0   \n",
       "503520          20          80    L06    A  ...    20.0   NaN       NaN   \n",
       "523178           0         100    L01    B  ...    10.0   3.5      30.0   \n",
       "545252           0         100    L01    A  ...     NaN   7.0      50.0   \n",
       "554705          20          80    L05    A  ...     NaN   NaN       NaN   \n",
       "575112           0         100    L03    B  ...    15.0   0.0      25.0   \n",
       "606244           0         100    L02    A  ...    30.0   9.0      20.0   \n",
       "618122          30          70    L08    A  ...    20.0   NaN       NaN   \n",
       "622730          30          70    L01    _  ...     NaN   NaN       NaN   \n",
       "637624          20          80    L10    A  ...    30.0   NaN       NaN   \n",
       "650083           0         100    L01    B  ...     NaN   3.0      30.0   \n",
       "654855          20          80    L05    A  ...     NaN   6.5      20.0   \n",
       "\n",
       "           TN TILETN   THI  TILETHI  TKET  F_DIEM1  F_DIEM2  \n",
       "80038     NaN    NaN  8.00    100.0   8.0      NaN      NaN  \n",
       "80735    7.30   20.0  4.20     40.0   4.5      NaN      NaN  \n",
       "82705     NaN    NaN  0.00     60.0   0.0      NaN      NaN  \n",
       "101685    NaN    NaN  1.50     60.0   1.5      NaN      NaN  \n",
       "187881   2.86   10.0  0.00     50.0   0.0      NaN      NaN  \n",
       "188020   6.80   10.0  4.20     40.0   3.0      NaN      NaN  \n",
       "188396   8.00   30.0  6.50     40.0   7.5      NaN      NaN  \n",
       "188562   0.00    0.0  8.00    100.0   8.0      NaN      NaN  \n",
       "195951   0.00    0.0  6.50     60.0   7.0      NaN      NaN  \n",
       "210948   0.00    0.0  8.00    100.0   8.0      NaN      NaN  \n",
       "214961   9.00   50.0  8.00     50.0   8.5      NaN      NaN  \n",
       "228981    NaN    NaN   NaN      NaN   8.0      NaN      8.0  \n",
       "229207    NaN    NaN   NaN      NaN   8.0      NaN      8.0  \n",
       "229379    NaN    NaN   NaN      NaN   8.0      NaN      8.0  \n",
       "301271   8.50   20.0  5.70     40.0   5.5      NaN      NaN  \n",
       "301472   6.00   30.0  5.50     50.0   5.5      NaN      NaN  \n",
       "301533   3.00   30.0  7.50     50.0   5.5      NaN      NaN  \n",
       "302312   2.50   30.0  9.50     50.0   7.0      NaN      NaN  \n",
       "304065   0.00    0.0  4.00     60.0   4.0      NaN      NaN  \n",
       "342460   0.00    0.0  7.00     50.0   7.0      NaN      NaN  \n",
       "379084  13.00   10.0  6.00     40.0   5.5      NaN      NaN  \n",
       "379584   0.00   10.0  4.50     60.0   4.0      NaN      NaN  \n",
       "394161    NaN    0.0  3.50     60.0   4.5      NaN      NaN  \n",
       "400702    NaN    NaN  9.00    100.0   9.0      NaN      NaN  \n",
       "401502   3.50   30.0  7.00     50.0   5.5      NaN      NaN  \n",
       "418691    NaN    NaN  8.50    100.0   8.5      NaN      NaN  \n",
       "436044   0.00   20.0  0.65     50.0   0.0      NaN      NaN  \n",
       "451585    NaN    NaN  5.50     50.0   7.0      NaN      NaN  \n",
       "456397    NaN    NaN  3.50     60.0   6.0      NaN      NaN  \n",
       "484114    NaN    NaN  7.60     70.0   7.0      NaN      NaN  \n",
       "490808    NaN    NaN  4.10     60.0   4.5      NaN      NaN  \n",
       "495158    NaN    NaN  2.50     60.0   2.5      NaN      NaN  \n",
       "503520    NaN    NaN  6.00     60.0   6.5      NaN      NaN  \n",
       "523178   7.00   10.0  5.50     50.0   5.5      NaN      NaN  \n",
       "545252    NaN    NaN  6.50     50.0   7.0      NaN      NaN  \n",
       "554705    NaN    NaN  4.63     60.0   4.0      NaN      NaN  \n",
       "575112   3.40   10.0  1.80     50.0   2.0      NaN      NaN  \n",
       "606244    NaN    NaN  7.00     50.0   7.5      NaN      NaN  \n",
       "618122    NaN    NaN  5.50     50.0   6.0      NaN      NaN  \n",
       "622730    NaN    NaN  6.50     70.0   7.0      NaN      NaN  \n",
       "637624    NaN    NaN  0.00     50.0   0.0      NaN      NaN  \n",
       "650083   4.00   10.0  3.00     60.0   3.0      NaN      NaN  \n",
       "654855    NaN    NaN  1.50     60.0   1.5      NaN      NaN  \n",
       "\n",
       "[43 rows x 30 columns]"
      ]
     },
     "execution_count": 14,
     "metadata": {},
     "output_type": "execute_result"
    }
   ],
   "source": [
    "df_student"
   ]
  },
  {
   "cell_type": "code",
   "execution_count": 5,
   "metadata": {},
   "outputs": [],
   "source": [
    "import plotly.express as px\n",
    "def draw_his_1_student(student_ID: int, df):\n",
    "  fig = px.bar(df[df.MASV1 == student_ID], y='TKET', x='F_TENMHVN', text = \"NHHK\", color = \"NHHK\")\n",
    "  fig.update_layout(barmode = 'group')\n",
    "  fig.update_layout(uniformtext_minsize=8, uniformtext_mode='hide')\n",
    "  #fig.add_hrect(y0=0, y1=4.99999, line_width=0, fillcolor=\"red\", opacity=0.3)\n",
    "  fig.show()"
   ]
  },
  {
   "cell_type": "code",
   "execution_count": 8,
   "metadata": {},
   "outputs": [
    {
     "data": {
      "application/vnd.plotly.v1+json": {
       "config": {
        "plotlyServerURL": "https://plot.ly"
       },
       "data": [
        {
         "alignmentgroup": "True",
         "hovertemplate": "F_TENMHVN=%{x}<br>TKET=%{y}<br>NHHK=%{marker.color}<extra></extra>",
         "legendgroup": "",
         "marker": {
          "color": [
           151,
           151,
           151,
           151,
           152,
           152,
           152,
           152,
           152,
           152,
           152,
           153,
           153,
           153,
           161,
           161,
           161,
           161,
           161,
           161,
           162,
           162,
           162,
           162,
           162,
           162,
           162,
           163,
           163,
           171,
           171,
           171,
           171,
           171,
           171,
           171,
           171,
           172,
           172,
           172,
           172,
           172,
           172
          ],
          "coloraxis": "coloraxis",
          "pattern": {
           "shape": ""
          }
         },
         "name": "",
         "offsetgroup": "",
         "orientation": "v",
         "showlegend": false,
         "text": [
          151,
          151,
          151,
          151,
          152,
          152,
          152,
          152,
          152,
          152,
          152,
          153,
          153,
          153,
          161,
          161,
          161,
          161,
          161,
          161,
          162,
          162,
          162,
          162,
          162,
          162,
          162,
          163,
          163,
          171,
          171,
          171,
          171,
          171,
          171,
          171,
          171,
          172,
          172,
          172,
          172,
          172,
          172
         ],
         "textposition": "auto",
         "type": "bar",
         "x": [
          "Kỹnăng chnghiệp cho kỹsư",
          "ThKế llý với verilog",
          "Giải tích mạch cơ bản",
          "Phương pháp tính",
          "Ctrúc dữliệu & giảithuật",
          "Kiến trúc máy tính",
          "Linh kiện & mạch điện tử",
          "Thựctập phầncứng máytính",
          "Anh văn 1",
          "Giáo dục thể chất 3",
          "Thí nghiệm vật lý",
          "Giải tích 2",
          "Đại số tuyến tính",
          "Phương pháp tính",
          "ThKế llý với verilog",
          "Xử lý tín hiệu số",
          "Kỹ thuật truyền số liệu",
          "Vi xử lý - vi điều khiển",
          "Giải tích mạch cơ bản",
          "Vật lý 2",
          "Kiến trúc máy tính",
          "Mạng máy tính",
          "Xác suất và thống kê",
          "ĐAMH thiết kế luận lý",
          "Hệ thống nhúng",
          "Đồ án môn học kỹthuật mt",
          "Kỹ thuật lập trình",
          "Những NgLý cơbản CN M-Lê",
          "Giải tích mạch cơ bản",
          "Ph/luật ViệtNam đạicương",
          "Công nghệ phần mềm",
          "Xác suất và thống kê",
          "Tư tưởng Hồ Chí Minh",
          "Hệ điều hành",
          "Đánhgiá hiệunăng hệ thốg",
          "Anh văn 2",
          "Ctrúc dữliệu & giảithuật",
          "Con người và môi trường",
          "Đườnglối CM của ĐảngCSVN",
          "Phân tích và thiết kế ht",
          "Anh văn 3",
          "Mạng máy tính",
          "Xác suất và thống kê"
         ],
         "xaxis": "x",
         "y": [
          8,
          4.5,
          0,
          1.5,
          0,
          3,
          7.5,
          8,
          7,
          8,
          8.5,
          8,
          8,
          8,
          5.5,
          5.5,
          5.5,
          7,
          4,
          7,
          5.5,
          4,
          4.5,
          9,
          5.5,
          8.5,
          0,
          7,
          6,
          7,
          4.5,
          2.5,
          6.5,
          5.5,
          7,
          4,
          2,
          7.5,
          6,
          7,
          0,
          3,
          1.5
         ],
         "yaxis": "y"
        }
       ],
       "layout": {
        "barmode": "group",
        "coloraxis": {
         "colorbar": {
          "title": {
           "text": "NHHK"
          }
         },
         "colorscale": [
          [
           0,
           "#0d0887"
          ],
          [
           0.1111111111111111,
           "#46039f"
          ],
          [
           0.2222222222222222,
           "#7201a8"
          ],
          [
           0.3333333333333333,
           "#9c179e"
          ],
          [
           0.4444444444444444,
           "#bd3786"
          ],
          [
           0.5555555555555556,
           "#d8576b"
          ],
          [
           0.6666666666666666,
           "#ed7953"
          ],
          [
           0.7777777777777778,
           "#fb9f3a"
          ],
          [
           0.8888888888888888,
           "#fdca26"
          ],
          [
           1,
           "#f0f921"
          ]
         ]
        },
        "legend": {
         "tracegroupgap": 0
        },
        "margin": {
         "t": 60
        },
        "template": {
         "data": {
          "bar": [
           {
            "error_x": {
             "color": "#2a3f5f"
            },
            "error_y": {
             "color": "#2a3f5f"
            },
            "marker": {
             "line": {
              "color": "#E5ECF6",
              "width": 0.5
             },
             "pattern": {
              "fillmode": "overlay",
              "size": 10,
              "solidity": 0.2
             }
            },
            "type": "bar"
           }
          ],
          "barpolar": [
           {
            "marker": {
             "line": {
              "color": "#E5ECF6",
              "width": 0.5
             },
             "pattern": {
              "fillmode": "overlay",
              "size": 10,
              "solidity": 0.2
             }
            },
            "type": "barpolar"
           }
          ],
          "carpet": [
           {
            "aaxis": {
             "endlinecolor": "#2a3f5f",
             "gridcolor": "white",
             "linecolor": "white",
             "minorgridcolor": "white",
             "startlinecolor": "#2a3f5f"
            },
            "baxis": {
             "endlinecolor": "#2a3f5f",
             "gridcolor": "white",
             "linecolor": "white",
             "minorgridcolor": "white",
             "startlinecolor": "#2a3f5f"
            },
            "type": "carpet"
           }
          ],
          "choropleth": [
           {
            "colorbar": {
             "outlinewidth": 0,
             "ticks": ""
            },
            "type": "choropleth"
           }
          ],
          "contour": [
           {
            "colorbar": {
             "outlinewidth": 0,
             "ticks": ""
            },
            "colorscale": [
             [
              0,
              "#0d0887"
             ],
             [
              0.1111111111111111,
              "#46039f"
             ],
             [
              0.2222222222222222,
              "#7201a8"
             ],
             [
              0.3333333333333333,
              "#9c179e"
             ],
             [
              0.4444444444444444,
              "#bd3786"
             ],
             [
              0.5555555555555556,
              "#d8576b"
             ],
             [
              0.6666666666666666,
              "#ed7953"
             ],
             [
              0.7777777777777778,
              "#fb9f3a"
             ],
             [
              0.8888888888888888,
              "#fdca26"
             ],
             [
              1,
              "#f0f921"
             ]
            ],
            "type": "contour"
           }
          ],
          "contourcarpet": [
           {
            "colorbar": {
             "outlinewidth": 0,
             "ticks": ""
            },
            "type": "contourcarpet"
           }
          ],
          "heatmap": [
           {
            "colorbar": {
             "outlinewidth": 0,
             "ticks": ""
            },
            "colorscale": [
             [
              0,
              "#0d0887"
             ],
             [
              0.1111111111111111,
              "#46039f"
             ],
             [
              0.2222222222222222,
              "#7201a8"
             ],
             [
              0.3333333333333333,
              "#9c179e"
             ],
             [
              0.4444444444444444,
              "#bd3786"
             ],
             [
              0.5555555555555556,
              "#d8576b"
             ],
             [
              0.6666666666666666,
              "#ed7953"
             ],
             [
              0.7777777777777778,
              "#fb9f3a"
             ],
             [
              0.8888888888888888,
              "#fdca26"
             ],
             [
              1,
              "#f0f921"
             ]
            ],
            "type": "heatmap"
           }
          ],
          "heatmapgl": [
           {
            "colorbar": {
             "outlinewidth": 0,
             "ticks": ""
            },
            "colorscale": [
             [
              0,
              "#0d0887"
             ],
             [
              0.1111111111111111,
              "#46039f"
             ],
             [
              0.2222222222222222,
              "#7201a8"
             ],
             [
              0.3333333333333333,
              "#9c179e"
             ],
             [
              0.4444444444444444,
              "#bd3786"
             ],
             [
              0.5555555555555556,
              "#d8576b"
             ],
             [
              0.6666666666666666,
              "#ed7953"
             ],
             [
              0.7777777777777778,
              "#fb9f3a"
             ],
             [
              0.8888888888888888,
              "#fdca26"
             ],
             [
              1,
              "#f0f921"
             ]
            ],
            "type": "heatmapgl"
           }
          ],
          "histogram": [
           {
            "marker": {
             "pattern": {
              "fillmode": "overlay",
              "size": 10,
              "solidity": 0.2
             }
            },
            "type": "histogram"
           }
          ],
          "histogram2d": [
           {
            "colorbar": {
             "outlinewidth": 0,
             "ticks": ""
            },
            "colorscale": [
             [
              0,
              "#0d0887"
             ],
             [
              0.1111111111111111,
              "#46039f"
             ],
             [
              0.2222222222222222,
              "#7201a8"
             ],
             [
              0.3333333333333333,
              "#9c179e"
             ],
             [
              0.4444444444444444,
              "#bd3786"
             ],
             [
              0.5555555555555556,
              "#d8576b"
             ],
             [
              0.6666666666666666,
              "#ed7953"
             ],
             [
              0.7777777777777778,
              "#fb9f3a"
             ],
             [
              0.8888888888888888,
              "#fdca26"
             ],
             [
              1,
              "#f0f921"
             ]
            ],
            "type": "histogram2d"
           }
          ],
          "histogram2dcontour": [
           {
            "colorbar": {
             "outlinewidth": 0,
             "ticks": ""
            },
            "colorscale": [
             [
              0,
              "#0d0887"
             ],
             [
              0.1111111111111111,
              "#46039f"
             ],
             [
              0.2222222222222222,
              "#7201a8"
             ],
             [
              0.3333333333333333,
              "#9c179e"
             ],
             [
              0.4444444444444444,
              "#bd3786"
             ],
             [
              0.5555555555555556,
              "#d8576b"
             ],
             [
              0.6666666666666666,
              "#ed7953"
             ],
             [
              0.7777777777777778,
              "#fb9f3a"
             ],
             [
              0.8888888888888888,
              "#fdca26"
             ],
             [
              1,
              "#f0f921"
             ]
            ],
            "type": "histogram2dcontour"
           }
          ],
          "mesh3d": [
           {
            "colorbar": {
             "outlinewidth": 0,
             "ticks": ""
            },
            "type": "mesh3d"
           }
          ],
          "parcoords": [
           {
            "line": {
             "colorbar": {
              "outlinewidth": 0,
              "ticks": ""
             }
            },
            "type": "parcoords"
           }
          ],
          "pie": [
           {
            "automargin": true,
            "type": "pie"
           }
          ],
          "scatter": [
           {
            "fillpattern": {
             "fillmode": "overlay",
             "size": 10,
             "solidity": 0.2
            },
            "type": "scatter"
           }
          ],
          "scatter3d": [
           {
            "line": {
             "colorbar": {
              "outlinewidth": 0,
              "ticks": ""
             }
            },
            "marker": {
             "colorbar": {
              "outlinewidth": 0,
              "ticks": ""
             }
            },
            "type": "scatter3d"
           }
          ],
          "scattercarpet": [
           {
            "marker": {
             "colorbar": {
              "outlinewidth": 0,
              "ticks": ""
             }
            },
            "type": "scattercarpet"
           }
          ],
          "scattergeo": [
           {
            "marker": {
             "colorbar": {
              "outlinewidth": 0,
              "ticks": ""
             }
            },
            "type": "scattergeo"
           }
          ],
          "scattergl": [
           {
            "marker": {
             "colorbar": {
              "outlinewidth": 0,
              "ticks": ""
             }
            },
            "type": "scattergl"
           }
          ],
          "scattermapbox": [
           {
            "marker": {
             "colorbar": {
              "outlinewidth": 0,
              "ticks": ""
             }
            },
            "type": "scattermapbox"
           }
          ],
          "scatterpolar": [
           {
            "marker": {
             "colorbar": {
              "outlinewidth": 0,
              "ticks": ""
             }
            },
            "type": "scatterpolar"
           }
          ],
          "scatterpolargl": [
           {
            "marker": {
             "colorbar": {
              "outlinewidth": 0,
              "ticks": ""
             }
            },
            "type": "scatterpolargl"
           }
          ],
          "scatterternary": [
           {
            "marker": {
             "colorbar": {
              "outlinewidth": 0,
              "ticks": ""
             }
            },
            "type": "scatterternary"
           }
          ],
          "surface": [
           {
            "colorbar": {
             "outlinewidth": 0,
             "ticks": ""
            },
            "colorscale": [
             [
              0,
              "#0d0887"
             ],
             [
              0.1111111111111111,
              "#46039f"
             ],
             [
              0.2222222222222222,
              "#7201a8"
             ],
             [
              0.3333333333333333,
              "#9c179e"
             ],
             [
              0.4444444444444444,
              "#bd3786"
             ],
             [
              0.5555555555555556,
              "#d8576b"
             ],
             [
              0.6666666666666666,
              "#ed7953"
             ],
             [
              0.7777777777777778,
              "#fb9f3a"
             ],
             [
              0.8888888888888888,
              "#fdca26"
             ],
             [
              1,
              "#f0f921"
             ]
            ],
            "type": "surface"
           }
          ],
          "table": [
           {
            "cells": {
             "fill": {
              "color": "#EBF0F8"
             },
             "line": {
              "color": "white"
             }
            },
            "header": {
             "fill": {
              "color": "#C8D4E3"
             },
             "line": {
              "color": "white"
             }
            },
            "type": "table"
           }
          ]
         },
         "layout": {
          "annotationdefaults": {
           "arrowcolor": "#2a3f5f",
           "arrowhead": 0,
           "arrowwidth": 1
          },
          "autotypenumbers": "strict",
          "coloraxis": {
           "colorbar": {
            "outlinewidth": 0,
            "ticks": ""
           }
          },
          "colorscale": {
           "diverging": [
            [
             0,
             "#8e0152"
            ],
            [
             0.1,
             "#c51b7d"
            ],
            [
             0.2,
             "#de77ae"
            ],
            [
             0.3,
             "#f1b6da"
            ],
            [
             0.4,
             "#fde0ef"
            ],
            [
             0.5,
             "#f7f7f7"
            ],
            [
             0.6,
             "#e6f5d0"
            ],
            [
             0.7,
             "#b8e186"
            ],
            [
             0.8,
             "#7fbc41"
            ],
            [
             0.9,
             "#4d9221"
            ],
            [
             1,
             "#276419"
            ]
           ],
           "sequential": [
            [
             0,
             "#0d0887"
            ],
            [
             0.1111111111111111,
             "#46039f"
            ],
            [
             0.2222222222222222,
             "#7201a8"
            ],
            [
             0.3333333333333333,
             "#9c179e"
            ],
            [
             0.4444444444444444,
             "#bd3786"
            ],
            [
             0.5555555555555556,
             "#d8576b"
            ],
            [
             0.6666666666666666,
             "#ed7953"
            ],
            [
             0.7777777777777778,
             "#fb9f3a"
            ],
            [
             0.8888888888888888,
             "#fdca26"
            ],
            [
             1,
             "#f0f921"
            ]
           ],
           "sequentialminus": [
            [
             0,
             "#0d0887"
            ],
            [
             0.1111111111111111,
             "#46039f"
            ],
            [
             0.2222222222222222,
             "#7201a8"
            ],
            [
             0.3333333333333333,
             "#9c179e"
            ],
            [
             0.4444444444444444,
             "#bd3786"
            ],
            [
             0.5555555555555556,
             "#d8576b"
            ],
            [
             0.6666666666666666,
             "#ed7953"
            ],
            [
             0.7777777777777778,
             "#fb9f3a"
            ],
            [
             0.8888888888888888,
             "#fdca26"
            ],
            [
             1,
             "#f0f921"
            ]
           ]
          },
          "colorway": [
           "#636efa",
           "#EF553B",
           "#00cc96",
           "#ab63fa",
           "#FFA15A",
           "#19d3f3",
           "#FF6692",
           "#B6E880",
           "#FF97FF",
           "#FECB52"
          ],
          "font": {
           "color": "#2a3f5f"
          },
          "geo": {
           "bgcolor": "white",
           "lakecolor": "white",
           "landcolor": "#E5ECF6",
           "showlakes": true,
           "showland": true,
           "subunitcolor": "white"
          },
          "hoverlabel": {
           "align": "left"
          },
          "hovermode": "closest",
          "mapbox": {
           "style": "light"
          },
          "paper_bgcolor": "white",
          "plot_bgcolor": "#E5ECF6",
          "polar": {
           "angularaxis": {
            "gridcolor": "white",
            "linecolor": "white",
            "ticks": ""
           },
           "bgcolor": "#E5ECF6",
           "radialaxis": {
            "gridcolor": "white",
            "linecolor": "white",
            "ticks": ""
           }
          },
          "scene": {
           "xaxis": {
            "backgroundcolor": "#E5ECF6",
            "gridcolor": "white",
            "gridwidth": 2,
            "linecolor": "white",
            "showbackground": true,
            "ticks": "",
            "zerolinecolor": "white"
           },
           "yaxis": {
            "backgroundcolor": "#E5ECF6",
            "gridcolor": "white",
            "gridwidth": 2,
            "linecolor": "white",
            "showbackground": true,
            "ticks": "",
            "zerolinecolor": "white"
           },
           "zaxis": {
            "backgroundcolor": "#E5ECF6",
            "gridcolor": "white",
            "gridwidth": 2,
            "linecolor": "white",
            "showbackground": true,
            "ticks": "",
            "zerolinecolor": "white"
           }
          },
          "shapedefaults": {
           "line": {
            "color": "#2a3f5f"
           }
          },
          "ternary": {
           "aaxis": {
            "gridcolor": "white",
            "linecolor": "white",
            "ticks": ""
           },
           "baxis": {
            "gridcolor": "white",
            "linecolor": "white",
            "ticks": ""
           },
           "bgcolor": "#E5ECF6",
           "caxis": {
            "gridcolor": "white",
            "linecolor": "white",
            "ticks": ""
           }
          },
          "title": {
           "x": 0.05
          },
          "xaxis": {
           "automargin": true,
           "gridcolor": "white",
           "linecolor": "white",
           "ticks": "",
           "title": {
            "standoff": 15
           },
           "zerolinecolor": "white",
           "zerolinewidth": 2
          },
          "yaxis": {
           "automargin": true,
           "gridcolor": "white",
           "linecolor": "white",
           "ticks": "",
           "title": {
            "standoff": 15
           },
           "zerolinecolor": "white",
           "zerolinewidth": 2
          }
         }
        },
        "uniformtext": {
         "minsize": 8,
         "mode": "hide"
        },
        "xaxis": {
         "anchor": "y",
         "domain": [
          0,
          1
         ],
         "title": {
          "text": "F_TENMHVN"
         }
        },
        "yaxis": {
         "anchor": "x",
         "domain": [
          0,
          1
         ],
         "title": {
          "text": "TKET"
         }
        }
       }
      }
     },
     "metadata": {},
     "output_type": "display_data"
    }
   ],
   "source": [
    "draw_his_1_student(36150879, df_CS)"
   ]
  },
  {
   "cell_type": "code",
   "execution_count": 27,
   "metadata": {},
   "outputs": [
    {
     "data": {
      "text/html": [
       "<div>\n",
       "<style scoped>\n",
       "    .dataframe tbody tr th:only-of-type {\n",
       "        vertical-align: middle;\n",
       "    }\n",
       "\n",
       "    .dataframe tbody tr th {\n",
       "        vertical-align: top;\n",
       "    }\n",
       "\n",
       "    .dataframe thead th {\n",
       "        text-align: right;\n",
       "    }\n",
       "</style>\n",
       "<table border=\"1\" class=\"dataframe\">\n",
       "  <thead>\n",
       "    <tr style=\"text-align: right;\">\n",
       "      <th></th>\n",
       "      <th>NAMHOC</th>\n",
       "      <th>TENHK</th>\n",
       "      <th>NHHK</th>\n",
       "      <th>F_DVHT</th>\n",
       "      <th>F_PHTRAMKT</th>\n",
       "      <th>F_PHTRAMTH</th>\n",
       "      <th>STT</th>\n",
       "      <th>MASV1</th>\n",
       "      <th>KT</th>\n",
       "      <th>TILEKT</th>\n",
       "      <th>...</th>\n",
       "      <th>TILEBT</th>\n",
       "      <th>BTLDA</th>\n",
       "      <th>TILEBTLDA</th>\n",
       "      <th>TN</th>\n",
       "      <th>TILETN</th>\n",
       "      <th>THI</th>\n",
       "      <th>TILETHI</th>\n",
       "      <th>TKET</th>\n",
       "      <th>F_DIEM1</th>\n",
       "      <th>F_DIEM2</th>\n",
       "    </tr>\n",
       "  </thead>\n",
       "  <tbody>\n",
       "    <tr>\n",
       "      <th>count</th>\n",
       "      <td>35713.00000</td>\n",
       "      <td>35713.000000</td>\n",
       "      <td>35713.000000</td>\n",
       "      <td>35713.000000</td>\n",
       "      <td>35713.000000</td>\n",
       "      <td>35713.000000</td>\n",
       "      <td>18750.000000</td>\n",
       "      <td>3.571300e+04</td>\n",
       "      <td>26119.000000</td>\n",
       "      <td>26119.000000</td>\n",
       "      <td>...</td>\n",
       "      <td>19888.000000</td>\n",
       "      <td>25732.000000</td>\n",
       "      <td>25732.000000</td>\n",
       "      <td>20109.000000</td>\n",
       "      <td>21105.000000</td>\n",
       "      <td>34433.000000</td>\n",
       "      <td>34433.000000</td>\n",
       "      <td>35713.000000</td>\n",
       "      <td>0.0</td>\n",
       "      <td>874.000000</td>\n",
       "    </tr>\n",
       "    <tr>\n",
       "      <th>mean</th>\n",
       "      <td>2016.00742</td>\n",
       "      <td>1.529751</td>\n",
       "      <td>161.603954</td>\n",
       "      <td>3.063758</td>\n",
       "      <td>14.758771</td>\n",
       "      <td>85.241229</td>\n",
       "      <td>18.393440</td>\n",
       "      <td>4.958476e+07</td>\n",
       "      <td>5.129059</td>\n",
       "      <td>21.176538</td>\n",
       "      <td>...</td>\n",
       "      <td>7.075623</td>\n",
       "      <td>5.569400</td>\n",
       "      <td>19.174957</td>\n",
       "      <td>4.824703</td>\n",
       "      <td>11.191187</td>\n",
       "      <td>6.081609</td>\n",
       "      <td>59.760695</td>\n",
       "      <td>6.348328</td>\n",
       "      <td>NaN</td>\n",
       "      <td>7.247140</td>\n",
       "    </tr>\n",
       "    <tr>\n",
       "      <th>std</th>\n",
       "      <td>0.81521</td>\n",
       "      <td>0.580172</td>\n",
       "      <td>8.126699</td>\n",
       "      <td>1.427397</td>\n",
       "      <td>13.391743</td>\n",
       "      <td>13.391743</td>\n",
       "      <td>11.912495</td>\n",
       "      <td>2.774231e+07</td>\n",
       "      <td>3.231960</td>\n",
       "      <td>12.988218</td>\n",
       "      <td>...</td>\n",
       "      <td>8.177945</td>\n",
       "      <td>3.965786</td>\n",
       "      <td>13.951835</td>\n",
       "      <td>4.130536</td>\n",
       "      <td>12.724116</td>\n",
       "      <td>2.327200</td>\n",
       "      <td>18.036476</td>\n",
       "      <td>2.268613</td>\n",
       "      <td>NaN</td>\n",
       "      <td>1.765982</td>\n",
       "    </tr>\n",
       "    <tr>\n",
       "      <th>min</th>\n",
       "      <td>2015.00000</td>\n",
       "      <td>1.000000</td>\n",
       "      <td>151.000000</td>\n",
       "      <td>0.000000</td>\n",
       "      <td>0.000000</td>\n",
       "      <td>50.000000</td>\n",
       "      <td>1.000000</td>\n",
       "      <td>3.397400e+04</td>\n",
       "      <td>0.000000</td>\n",
       "      <td>0.000000</td>\n",
       "      <td>...</td>\n",
       "      <td>0.000000</td>\n",
       "      <td>0.000000</td>\n",
       "      <td>0.000000</td>\n",
       "      <td>0.000000</td>\n",
       "      <td>0.000000</td>\n",
       "      <td>0.000000</td>\n",
       "      <td>30.000000</td>\n",
       "      <td>0.000000</td>\n",
       "      <td>NaN</td>\n",
       "      <td>0.000000</td>\n",
       "    </tr>\n",
       "    <tr>\n",
       "      <th>25%</th>\n",
       "      <td>2015.00000</td>\n",
       "      <td>1.000000</td>\n",
       "      <td>152.000000</td>\n",
       "      <td>3.000000</td>\n",
       "      <td>0.000000</td>\n",
       "      <td>80.000000</td>\n",
       "      <td>9.000000</td>\n",
       "      <td>2.702367e+07</td>\n",
       "      <td>3.000000</td>\n",
       "      <td>20.000000</td>\n",
       "      <td>...</td>\n",
       "      <td>0.000000</td>\n",
       "      <td>0.000000</td>\n",
       "      <td>10.000000</td>\n",
       "      <td>0.000000</td>\n",
       "      <td>0.000000</td>\n",
       "      <td>5.000000</td>\n",
       "      <td>50.000000</td>\n",
       "      <td>5.500000</td>\n",
       "      <td>NaN</td>\n",
       "      <td>6.000000</td>\n",
       "    </tr>\n",
       "    <tr>\n",
       "      <th>50%</th>\n",
       "      <td>2016.00000</td>\n",
       "      <td>1.000000</td>\n",
       "      <td>162.000000</td>\n",
       "      <td>3.000000</td>\n",
       "      <td>20.000000</td>\n",
       "      <td>80.000000</td>\n",
       "      <td>17.000000</td>\n",
       "      <td>4.919096e+07</td>\n",
       "      <td>6.000000</td>\n",
       "      <td>20.000000</td>\n",
       "      <td>...</td>\n",
       "      <td>5.000000</td>\n",
       "      <td>7.500000</td>\n",
       "      <td>20.000000</td>\n",
       "      <td>6.250000</td>\n",
       "      <td>10.000000</td>\n",
       "      <td>6.350000</td>\n",
       "      <td>50.000000</td>\n",
       "      <td>7.000000</td>\n",
       "      <td>NaN</td>\n",
       "      <td>7.500000</td>\n",
       "    </tr>\n",
       "    <tr>\n",
       "      <th>75%</th>\n",
       "      <td>2017.00000</td>\n",
       "      <td>2.000000</td>\n",
       "      <td>171.000000</td>\n",
       "      <td>4.000000</td>\n",
       "      <td>20.000000</td>\n",
       "      <td>100.000000</td>\n",
       "      <td>27.000000</td>\n",
       "      <td>7.225275e+07</td>\n",
       "      <td>7.500000</td>\n",
       "      <td>30.000000</td>\n",
       "      <td>...</td>\n",
       "      <td>10.000000</td>\n",
       "      <td>9.000000</td>\n",
       "      <td>30.000000</td>\n",
       "      <td>8.800000</td>\n",
       "      <td>20.000000</td>\n",
       "      <td>8.000000</td>\n",
       "      <td>60.000000</td>\n",
       "      <td>8.000000</td>\n",
       "      <td>NaN</td>\n",
       "      <td>8.500000</td>\n",
       "    </tr>\n",
       "    <tr>\n",
       "      <th>max</th>\n",
       "      <td>2017.00000</td>\n",
       "      <td>3.000000</td>\n",
       "      <td>172.000000</td>\n",
       "      <td>10.000000</td>\n",
       "      <td>50.000000</td>\n",
       "      <td>100.000000</td>\n",
       "      <td>96.000000</td>\n",
       "      <td>9.981865e+07</td>\n",
       "      <td>13.000000</td>\n",
       "      <td>50.000000</td>\n",
       "      <td>...</td>\n",
       "      <td>40.000000</td>\n",
       "      <td>13.000000</td>\n",
       "      <td>70.000000</td>\n",
       "      <td>13.000000</td>\n",
       "      <td>50.000000</td>\n",
       "      <td>13.000000</td>\n",
       "      <td>100.000000</td>\n",
       "      <td>10.000000</td>\n",
       "      <td>NaN</td>\n",
       "      <td>10.000000</td>\n",
       "    </tr>\n",
       "  </tbody>\n",
       "</table>\n",
       "<p>8 rows × 21 columns</p>\n",
       "</div>"
      ],
      "text/plain": [
       "            NAMHOC         TENHK          NHHK        F_DVHT    F_PHTRAMKT  \\\n",
       "count  35713.00000  35713.000000  35713.000000  35713.000000  35713.000000   \n",
       "mean    2016.00742      1.529751    161.603954      3.063758     14.758771   \n",
       "std        0.81521      0.580172      8.126699      1.427397     13.391743   \n",
       "min     2015.00000      1.000000    151.000000      0.000000      0.000000   \n",
       "25%     2015.00000      1.000000    152.000000      3.000000      0.000000   \n",
       "50%     2016.00000      1.000000    162.000000      3.000000     20.000000   \n",
       "75%     2017.00000      2.000000    171.000000      4.000000     20.000000   \n",
       "max     2017.00000      3.000000    172.000000     10.000000     50.000000   \n",
       "\n",
       "         F_PHTRAMTH           STT         MASV1            KT        TILEKT  \\\n",
       "count  35713.000000  18750.000000  3.571300e+04  26119.000000  26119.000000   \n",
       "mean      85.241229     18.393440  4.958476e+07      5.129059     21.176538   \n",
       "std       13.391743     11.912495  2.774231e+07      3.231960     12.988218   \n",
       "min       50.000000      1.000000  3.397400e+04      0.000000      0.000000   \n",
       "25%       80.000000      9.000000  2.702367e+07      3.000000     20.000000   \n",
       "50%       80.000000     17.000000  4.919096e+07      6.000000     20.000000   \n",
       "75%      100.000000     27.000000  7.225275e+07      7.500000     30.000000   \n",
       "max      100.000000     96.000000  9.981865e+07     13.000000     50.000000   \n",
       "\n",
       "       ...        TILEBT         BTLDA     TILEBTLDA            TN  \\\n",
       "count  ...  19888.000000  25732.000000  25732.000000  20109.000000   \n",
       "mean   ...      7.075623      5.569400     19.174957      4.824703   \n",
       "std    ...      8.177945      3.965786     13.951835      4.130536   \n",
       "min    ...      0.000000      0.000000      0.000000      0.000000   \n",
       "25%    ...      0.000000      0.000000     10.000000      0.000000   \n",
       "50%    ...      5.000000      7.500000     20.000000      6.250000   \n",
       "75%    ...     10.000000      9.000000     30.000000      8.800000   \n",
       "max    ...     40.000000     13.000000     70.000000     13.000000   \n",
       "\n",
       "             TILETN           THI       TILETHI          TKET  F_DIEM1  \\\n",
       "count  21105.000000  34433.000000  34433.000000  35713.000000      0.0   \n",
       "mean      11.191187      6.081609     59.760695      6.348328      NaN   \n",
       "std       12.724116      2.327200     18.036476      2.268613      NaN   \n",
       "min        0.000000      0.000000     30.000000      0.000000      NaN   \n",
       "25%        0.000000      5.000000     50.000000      5.500000      NaN   \n",
       "50%       10.000000      6.350000     50.000000      7.000000      NaN   \n",
       "75%       20.000000      8.000000     60.000000      8.000000      NaN   \n",
       "max       50.000000     13.000000    100.000000     10.000000      NaN   \n",
       "\n",
       "          F_DIEM2  \n",
       "count  874.000000  \n",
       "mean     7.247140  \n",
       "std      1.765982  \n",
       "min      0.000000  \n",
       "25%      6.000000  \n",
       "50%      7.500000  \n",
       "75%      8.500000  \n",
       "max     10.000000  \n",
       "\n",
       "[8 rows x 21 columns]"
      ]
     },
     "execution_count": 27,
     "metadata": {},
     "output_type": "execute_result"
    }
   ],
   "source": [
    "df_CS.describe()"
   ]
  },
  {
   "cell_type": "markdown",
   "metadata": {},
   "source": [
    "# Working"
   ]
  },
  {
   "cell_type": "code",
   "execution_count": 28,
   "metadata": {},
   "outputs": [],
   "source": [
    "import pandas as pd\n",
    "import plotly.express as px\n",
    "df_test = pd.read_csv('diem_clean_with_0.csv', dtype={'F_MAMH': str, \"NHHK\": str})"
   ]
  },
  {
   "cell_type": "code",
   "execution_count": 39,
   "metadata": {},
   "outputs": [],
   "source": [
    "subject = \"Anh văn 1\"\n",
    "majors = [\"Điện - Điện tử\", \"Cơ khí-Cơ điện tử\", \"Xây dựng\"]\n",
    "semester = \"162\""
   ]
  },
  {
   "cell_type": "code",
   "execution_count": 40,
   "metadata": {},
   "outputs": [],
   "source": [
    "df_filter = df_test[(df_test.F_TENMHVN == subject) & (df_test.NHHK == semester) & (df_test.F_TENNGVN.isin(majors))]"
   ]
  },
  {
   "cell_type": "code",
   "execution_count": 41,
   "metadata": {},
   "outputs": [
    {
     "name": "stdout",
     "output_type": "stream",
     "text": [
      "<class 'pandas.core.frame.DataFrame'>\n",
      "Int64Index: 39 entries, 420887 to 420977\n",
      "Data columns (total 30 columns):\n",
      " #   Column      Non-Null Count  Dtype  \n",
      "---  ------      --------------  -----  \n",
      " 0   NAMHOC      39 non-null     int64  \n",
      " 1   TENHK       39 non-null     int64  \n",
      " 2   NHHK        39 non-null     object \n",
      " 3   F_MAMH      39 non-null     object \n",
      " 4   F_TENMHVN   39 non-null     object \n",
      " 5   F_DVHT      39 non-null     float64\n",
      " 6   F_PHTRAMKT  39 non-null     int64  \n",
      " 7   F_PHTRAMTH  39 non-null     int64  \n",
      " 8   F_MANH      39 non-null     object \n",
      " 9   F_TO        39 non-null     object \n",
      " 10  STT         0 non-null      float64\n",
      " 11  F_MAKH      39 non-null     object \n",
      " 12  F_TENLOP    39 non-null     object \n",
      " 13  F_KHOI      39 non-null     object \n",
      " 14  F_MANG      39 non-null     object \n",
      " 15  F_TENNGVN   39 non-null     object \n",
      " 16  MASV1       39 non-null     int64  \n",
      " 17  KT          39 non-null     float64\n",
      " 18  TILEKT      39 non-null     float64\n",
      " 19  BT          39 non-null     float64\n",
      " 20  TILEBT      39 non-null     float64\n",
      " 21  BTLDA       39 non-null     float64\n",
      " 22  TILEBTLDA   39 non-null     float64\n",
      " 23  TN          39 non-null     float64\n",
      " 24  TILETN      39 non-null     float64\n",
      " 25  THI         39 non-null     float64\n",
      " 26  TILETHI     39 non-null     float64\n",
      " 27  TKET        39 non-null     float64\n",
      " 28  F_DIEM1     0 non-null      float64\n",
      " 29  F_DIEM2     0 non-null      float64\n",
      "dtypes: float64(15), int64(5), object(10)\n",
      "memory usage: 9.4+ KB\n"
     ]
    }
   ],
   "source": [
    "df_filter.info()"
   ]
  },
  {
   "cell_type": "code",
   "execution_count": 42,
   "metadata": {},
   "outputs": [
    {
     "data": {
      "application/vnd.plotly.v1+json": {
       "config": {
        "plotlyServerURL": "https://plot.ly"
       },
       "data": [
        {
         "alignmentgroup": "True",
         "hovertemplate": "F_TENNGVN=%{x}<br>TKET=%{y}<extra></extra>",
         "legendgroup": "Cơ khí-Cơ điện tử",
         "marker": {
          "color": "#636efa"
         },
         "name": "Cơ khí-Cơ điện tử",
         "notched": false,
         "offsetgroup": "Cơ khí-Cơ điện tử",
         "orientation": "v",
         "showlegend": true,
         "type": "box",
         "x": [
          "Cơ khí-Cơ điện tử",
          "Cơ khí-Cơ điện tử",
          "Cơ khí-Cơ điện tử",
          "Cơ khí-Cơ điện tử",
          "Cơ khí-Cơ điện tử",
          "Cơ khí-Cơ điện tử",
          "Cơ khí-Cơ điện tử",
          "Cơ khí-Cơ điện tử",
          "Cơ khí-Cơ điện tử"
         ],
         "x0": " ",
         "xaxis": "x",
         "y": [
          0,
          6.5,
          3.5,
          6,
          8.5,
          5.5,
          0,
          7.5,
          8
         ],
         "y0": " ",
         "yaxis": "y"
        },
        {
         "alignmentgroup": "True",
         "hovertemplate": "F_TENNGVN=%{x}<br>TKET=%{y}<extra></extra>",
         "legendgroup": "Điện - Điện tử",
         "marker": {
          "color": "#EF553B"
         },
         "name": "Điện - Điện tử",
         "notched": false,
         "offsetgroup": "Điện - Điện tử",
         "orientation": "v",
         "showlegend": true,
         "type": "box",
         "x": [
          "Điện - Điện tử",
          "Điện - Điện tử",
          "Điện - Điện tử",
          "Điện - Điện tử",
          "Điện - Điện tử",
          "Điện - Điện tử",
          "Điện - Điện tử",
          "Điện - Điện tử",
          "Điện - Điện tử",
          "Điện - Điện tử",
          "Điện - Điện tử",
          "Điện - Điện tử",
          "Điện - Điện tử",
          "Điện - Điện tử",
          "Điện - Điện tử",
          "Điện - Điện tử",
          "Điện - Điện tử"
         ],
         "x0": " ",
         "xaxis": "x",
         "y": [
          6.5,
          5,
          8.5,
          7,
          9.5,
          7.5,
          5.5,
          6,
          8,
          6.5,
          6,
          6.5,
          6,
          8.5,
          0,
          0,
          7.5
         ],
         "y0": " ",
         "yaxis": "y"
        },
        {
         "alignmentgroup": "True",
         "hovertemplate": "F_TENNGVN=%{x}<br>TKET=%{y}<extra></extra>",
         "legendgroup": "Xây dựng",
         "marker": {
          "color": "#00cc96"
         },
         "name": "Xây dựng",
         "notched": false,
         "offsetgroup": "Xây dựng",
         "orientation": "v",
         "showlegend": true,
         "type": "box",
         "x": [
          "Xây dựng",
          "Xây dựng",
          "Xây dựng",
          "Xây dựng",
          "Xây dựng",
          "Xây dựng",
          "Xây dựng",
          "Xây dựng",
          "Xây dựng",
          "Xây dựng",
          "Xây dựng",
          "Xây dựng",
          "Xây dựng"
         ],
         "x0": " ",
         "xaxis": "x",
         "y": [
          4.5,
          3.5,
          8,
          6,
          5,
          7,
          6.5,
          3.5,
          2.5,
          7,
          7,
          6,
          7.5
         ],
         "y0": " ",
         "yaxis": "y"
        }
       ],
       "layout": {
        "boxmode": "overlay",
        "legend": {
         "title": {
          "text": "F_TENNGVN"
         },
         "tracegroupgap": 0
        },
        "margin": {
         "t": 60
        },
        "template": {
         "data": {
          "bar": [
           {
            "error_x": {
             "color": "#2a3f5f"
            },
            "error_y": {
             "color": "#2a3f5f"
            },
            "marker": {
             "line": {
              "color": "#E5ECF6",
              "width": 0.5
             },
             "pattern": {
              "fillmode": "overlay",
              "size": 10,
              "solidity": 0.2
             }
            },
            "type": "bar"
           }
          ],
          "barpolar": [
           {
            "marker": {
             "line": {
              "color": "#E5ECF6",
              "width": 0.5
             },
             "pattern": {
              "fillmode": "overlay",
              "size": 10,
              "solidity": 0.2
             }
            },
            "type": "barpolar"
           }
          ],
          "carpet": [
           {
            "aaxis": {
             "endlinecolor": "#2a3f5f",
             "gridcolor": "white",
             "linecolor": "white",
             "minorgridcolor": "white",
             "startlinecolor": "#2a3f5f"
            },
            "baxis": {
             "endlinecolor": "#2a3f5f",
             "gridcolor": "white",
             "linecolor": "white",
             "minorgridcolor": "white",
             "startlinecolor": "#2a3f5f"
            },
            "type": "carpet"
           }
          ],
          "choropleth": [
           {
            "colorbar": {
             "outlinewidth": 0,
             "ticks": ""
            },
            "type": "choropleth"
           }
          ],
          "contour": [
           {
            "colorbar": {
             "outlinewidth": 0,
             "ticks": ""
            },
            "colorscale": [
             [
              0,
              "#0d0887"
             ],
             [
              0.1111111111111111,
              "#46039f"
             ],
             [
              0.2222222222222222,
              "#7201a8"
             ],
             [
              0.3333333333333333,
              "#9c179e"
             ],
             [
              0.4444444444444444,
              "#bd3786"
             ],
             [
              0.5555555555555556,
              "#d8576b"
             ],
             [
              0.6666666666666666,
              "#ed7953"
             ],
             [
              0.7777777777777778,
              "#fb9f3a"
             ],
             [
              0.8888888888888888,
              "#fdca26"
             ],
             [
              1,
              "#f0f921"
             ]
            ],
            "type": "contour"
           }
          ],
          "contourcarpet": [
           {
            "colorbar": {
             "outlinewidth": 0,
             "ticks": ""
            },
            "type": "contourcarpet"
           }
          ],
          "heatmap": [
           {
            "colorbar": {
             "outlinewidth": 0,
             "ticks": ""
            },
            "colorscale": [
             [
              0,
              "#0d0887"
             ],
             [
              0.1111111111111111,
              "#46039f"
             ],
             [
              0.2222222222222222,
              "#7201a8"
             ],
             [
              0.3333333333333333,
              "#9c179e"
             ],
             [
              0.4444444444444444,
              "#bd3786"
             ],
             [
              0.5555555555555556,
              "#d8576b"
             ],
             [
              0.6666666666666666,
              "#ed7953"
             ],
             [
              0.7777777777777778,
              "#fb9f3a"
             ],
             [
              0.8888888888888888,
              "#fdca26"
             ],
             [
              1,
              "#f0f921"
             ]
            ],
            "type": "heatmap"
           }
          ],
          "heatmapgl": [
           {
            "colorbar": {
             "outlinewidth": 0,
             "ticks": ""
            },
            "colorscale": [
             [
              0,
              "#0d0887"
             ],
             [
              0.1111111111111111,
              "#46039f"
             ],
             [
              0.2222222222222222,
              "#7201a8"
             ],
             [
              0.3333333333333333,
              "#9c179e"
             ],
             [
              0.4444444444444444,
              "#bd3786"
             ],
             [
              0.5555555555555556,
              "#d8576b"
             ],
             [
              0.6666666666666666,
              "#ed7953"
             ],
             [
              0.7777777777777778,
              "#fb9f3a"
             ],
             [
              0.8888888888888888,
              "#fdca26"
             ],
             [
              1,
              "#f0f921"
             ]
            ],
            "type": "heatmapgl"
           }
          ],
          "histogram": [
           {
            "marker": {
             "pattern": {
              "fillmode": "overlay",
              "size": 10,
              "solidity": 0.2
             }
            },
            "type": "histogram"
           }
          ],
          "histogram2d": [
           {
            "colorbar": {
             "outlinewidth": 0,
             "ticks": ""
            },
            "colorscale": [
             [
              0,
              "#0d0887"
             ],
             [
              0.1111111111111111,
              "#46039f"
             ],
             [
              0.2222222222222222,
              "#7201a8"
             ],
             [
              0.3333333333333333,
              "#9c179e"
             ],
             [
              0.4444444444444444,
              "#bd3786"
             ],
             [
              0.5555555555555556,
              "#d8576b"
             ],
             [
              0.6666666666666666,
              "#ed7953"
             ],
             [
              0.7777777777777778,
              "#fb9f3a"
             ],
             [
              0.8888888888888888,
              "#fdca26"
             ],
             [
              1,
              "#f0f921"
             ]
            ],
            "type": "histogram2d"
           }
          ],
          "histogram2dcontour": [
           {
            "colorbar": {
             "outlinewidth": 0,
             "ticks": ""
            },
            "colorscale": [
             [
              0,
              "#0d0887"
             ],
             [
              0.1111111111111111,
              "#46039f"
             ],
             [
              0.2222222222222222,
              "#7201a8"
             ],
             [
              0.3333333333333333,
              "#9c179e"
             ],
             [
              0.4444444444444444,
              "#bd3786"
             ],
             [
              0.5555555555555556,
              "#d8576b"
             ],
             [
              0.6666666666666666,
              "#ed7953"
             ],
             [
              0.7777777777777778,
              "#fb9f3a"
             ],
             [
              0.8888888888888888,
              "#fdca26"
             ],
             [
              1,
              "#f0f921"
             ]
            ],
            "type": "histogram2dcontour"
           }
          ],
          "mesh3d": [
           {
            "colorbar": {
             "outlinewidth": 0,
             "ticks": ""
            },
            "type": "mesh3d"
           }
          ],
          "parcoords": [
           {
            "line": {
             "colorbar": {
              "outlinewidth": 0,
              "ticks": ""
             }
            },
            "type": "parcoords"
           }
          ],
          "pie": [
           {
            "automargin": true,
            "type": "pie"
           }
          ],
          "scatter": [
           {
            "fillpattern": {
             "fillmode": "overlay",
             "size": 10,
             "solidity": 0.2
            },
            "type": "scatter"
           }
          ],
          "scatter3d": [
           {
            "line": {
             "colorbar": {
              "outlinewidth": 0,
              "ticks": ""
             }
            },
            "marker": {
             "colorbar": {
              "outlinewidth": 0,
              "ticks": ""
             }
            },
            "type": "scatter3d"
           }
          ],
          "scattercarpet": [
           {
            "marker": {
             "colorbar": {
              "outlinewidth": 0,
              "ticks": ""
             }
            },
            "type": "scattercarpet"
           }
          ],
          "scattergeo": [
           {
            "marker": {
             "colorbar": {
              "outlinewidth": 0,
              "ticks": ""
             }
            },
            "type": "scattergeo"
           }
          ],
          "scattergl": [
           {
            "marker": {
             "colorbar": {
              "outlinewidth": 0,
              "ticks": ""
             }
            },
            "type": "scattergl"
           }
          ],
          "scattermapbox": [
           {
            "marker": {
             "colorbar": {
              "outlinewidth": 0,
              "ticks": ""
             }
            },
            "type": "scattermapbox"
           }
          ],
          "scatterpolar": [
           {
            "marker": {
             "colorbar": {
              "outlinewidth": 0,
              "ticks": ""
             }
            },
            "type": "scatterpolar"
           }
          ],
          "scatterpolargl": [
           {
            "marker": {
             "colorbar": {
              "outlinewidth": 0,
              "ticks": ""
             }
            },
            "type": "scatterpolargl"
           }
          ],
          "scatterternary": [
           {
            "marker": {
             "colorbar": {
              "outlinewidth": 0,
              "ticks": ""
             }
            },
            "type": "scatterternary"
           }
          ],
          "surface": [
           {
            "colorbar": {
             "outlinewidth": 0,
             "ticks": ""
            },
            "colorscale": [
             [
              0,
              "#0d0887"
             ],
             [
              0.1111111111111111,
              "#46039f"
             ],
             [
              0.2222222222222222,
              "#7201a8"
             ],
             [
              0.3333333333333333,
              "#9c179e"
             ],
             [
              0.4444444444444444,
              "#bd3786"
             ],
             [
              0.5555555555555556,
              "#d8576b"
             ],
             [
              0.6666666666666666,
              "#ed7953"
             ],
             [
              0.7777777777777778,
              "#fb9f3a"
             ],
             [
              0.8888888888888888,
              "#fdca26"
             ],
             [
              1,
              "#f0f921"
             ]
            ],
            "type": "surface"
           }
          ],
          "table": [
           {
            "cells": {
             "fill": {
              "color": "#EBF0F8"
             },
             "line": {
              "color": "white"
             }
            },
            "header": {
             "fill": {
              "color": "#C8D4E3"
             },
             "line": {
              "color": "white"
             }
            },
            "type": "table"
           }
          ]
         },
         "layout": {
          "annotationdefaults": {
           "arrowcolor": "#2a3f5f",
           "arrowhead": 0,
           "arrowwidth": 1
          },
          "autotypenumbers": "strict",
          "coloraxis": {
           "colorbar": {
            "outlinewidth": 0,
            "ticks": ""
           }
          },
          "colorscale": {
           "diverging": [
            [
             0,
             "#8e0152"
            ],
            [
             0.1,
             "#c51b7d"
            ],
            [
             0.2,
             "#de77ae"
            ],
            [
             0.3,
             "#f1b6da"
            ],
            [
             0.4,
             "#fde0ef"
            ],
            [
             0.5,
             "#f7f7f7"
            ],
            [
             0.6,
             "#e6f5d0"
            ],
            [
             0.7,
             "#b8e186"
            ],
            [
             0.8,
             "#7fbc41"
            ],
            [
             0.9,
             "#4d9221"
            ],
            [
             1,
             "#276419"
            ]
           ],
           "sequential": [
            [
             0,
             "#0d0887"
            ],
            [
             0.1111111111111111,
             "#46039f"
            ],
            [
             0.2222222222222222,
             "#7201a8"
            ],
            [
             0.3333333333333333,
             "#9c179e"
            ],
            [
             0.4444444444444444,
             "#bd3786"
            ],
            [
             0.5555555555555556,
             "#d8576b"
            ],
            [
             0.6666666666666666,
             "#ed7953"
            ],
            [
             0.7777777777777778,
             "#fb9f3a"
            ],
            [
             0.8888888888888888,
             "#fdca26"
            ],
            [
             1,
             "#f0f921"
            ]
           ],
           "sequentialminus": [
            [
             0,
             "#0d0887"
            ],
            [
             0.1111111111111111,
             "#46039f"
            ],
            [
             0.2222222222222222,
             "#7201a8"
            ],
            [
             0.3333333333333333,
             "#9c179e"
            ],
            [
             0.4444444444444444,
             "#bd3786"
            ],
            [
             0.5555555555555556,
             "#d8576b"
            ],
            [
             0.6666666666666666,
             "#ed7953"
            ],
            [
             0.7777777777777778,
             "#fb9f3a"
            ],
            [
             0.8888888888888888,
             "#fdca26"
            ],
            [
             1,
             "#f0f921"
            ]
           ]
          },
          "colorway": [
           "#636efa",
           "#EF553B",
           "#00cc96",
           "#ab63fa",
           "#FFA15A",
           "#19d3f3",
           "#FF6692",
           "#B6E880",
           "#FF97FF",
           "#FECB52"
          ],
          "font": {
           "color": "#2a3f5f"
          },
          "geo": {
           "bgcolor": "white",
           "lakecolor": "white",
           "landcolor": "#E5ECF6",
           "showlakes": true,
           "showland": true,
           "subunitcolor": "white"
          },
          "hoverlabel": {
           "align": "left"
          },
          "hovermode": "closest",
          "mapbox": {
           "style": "light"
          },
          "paper_bgcolor": "white",
          "plot_bgcolor": "#E5ECF6",
          "polar": {
           "angularaxis": {
            "gridcolor": "white",
            "linecolor": "white",
            "ticks": ""
           },
           "bgcolor": "#E5ECF6",
           "radialaxis": {
            "gridcolor": "white",
            "linecolor": "white",
            "ticks": ""
           }
          },
          "scene": {
           "xaxis": {
            "backgroundcolor": "#E5ECF6",
            "gridcolor": "white",
            "gridwidth": 2,
            "linecolor": "white",
            "showbackground": true,
            "ticks": "",
            "zerolinecolor": "white"
           },
           "yaxis": {
            "backgroundcolor": "#E5ECF6",
            "gridcolor": "white",
            "gridwidth": 2,
            "linecolor": "white",
            "showbackground": true,
            "ticks": "",
            "zerolinecolor": "white"
           },
           "zaxis": {
            "backgroundcolor": "#E5ECF6",
            "gridcolor": "white",
            "gridwidth": 2,
            "linecolor": "white",
            "showbackground": true,
            "ticks": "",
            "zerolinecolor": "white"
           }
          },
          "shapedefaults": {
           "line": {
            "color": "#2a3f5f"
           }
          },
          "ternary": {
           "aaxis": {
            "gridcolor": "white",
            "linecolor": "white",
            "ticks": ""
           },
           "baxis": {
            "gridcolor": "white",
            "linecolor": "white",
            "ticks": ""
           },
           "bgcolor": "#E5ECF6",
           "caxis": {
            "gridcolor": "white",
            "linecolor": "white",
            "ticks": ""
           }
          },
          "title": {
           "x": 0.05
          },
          "xaxis": {
           "automargin": true,
           "gridcolor": "white",
           "linecolor": "white",
           "ticks": "",
           "title": {
            "standoff": 15
           },
           "zerolinecolor": "white",
           "zerolinewidth": 2
          },
          "yaxis": {
           "automargin": true,
           "gridcolor": "white",
           "linecolor": "white",
           "ticks": "",
           "title": {
            "standoff": 15
           },
           "zerolinecolor": "white",
           "zerolinewidth": 2
          }
         }
        },
        "xaxis": {
         "anchor": "y",
         "categoryarray": [
          "Cơ khí-Cơ điện tử",
          "Điện - Điện tử",
          "Xây dựng"
         ],
         "categoryorder": "array",
         "domain": [
          0,
          1
         ],
         "title": {
          "text": "F_TENNGVN"
         }
        },
        "yaxis": {
         "anchor": "x",
         "domain": [
          0,
          1
         ],
         "title": {
          "text": "TKET"
         }
        }
       }
      }
     },
     "metadata": {},
     "output_type": "display_data"
    }
   ],
   "source": [
    "fig = px.box(df_filter, y='TKET', x='F_TENNGVN', color = \"F_TENNGVN\")\n",
    "#fig.add_traces(boxmean=True)\n",
    "fig.show()\n"
   ]
  },
  {
   "cell_type": "code",
   "execution_count": 10,
   "metadata": {},
   "outputs": [],
   "source": [
    "df_what = px.data.tips()"
   ]
  },
  {
   "cell_type": "code",
   "execution_count": 12,
   "metadata": {},
   "outputs": [
    {
     "data": {
      "text/html": [
       "<div>\n",
       "<style scoped>\n",
       "    .dataframe tbody tr th:only-of-type {\n",
       "        vertical-align: middle;\n",
       "    }\n",
       "\n",
       "    .dataframe tbody tr th {\n",
       "        vertical-align: top;\n",
       "    }\n",
       "\n",
       "    .dataframe thead th {\n",
       "        text-align: right;\n",
       "    }\n",
       "</style>\n",
       "<table border=\"1\" class=\"dataframe\">\n",
       "  <thead>\n",
       "    <tr style=\"text-align: right;\">\n",
       "      <th></th>\n",
       "      <th>total_bill</th>\n",
       "      <th>tip</th>\n",
       "      <th>sex</th>\n",
       "      <th>smoker</th>\n",
       "      <th>day</th>\n",
       "      <th>time</th>\n",
       "      <th>size</th>\n",
       "    </tr>\n",
       "  </thead>\n",
       "  <tbody>\n",
       "    <tr>\n",
       "      <th>0</th>\n",
       "      <td>16.99</td>\n",
       "      <td>1.01</td>\n",
       "      <td>Female</td>\n",
       "      <td>No</td>\n",
       "      <td>Sun</td>\n",
       "      <td>Dinner</td>\n",
       "      <td>2</td>\n",
       "    </tr>\n",
       "    <tr>\n",
       "      <th>1</th>\n",
       "      <td>10.34</td>\n",
       "      <td>1.66</td>\n",
       "      <td>Male</td>\n",
       "      <td>No</td>\n",
       "      <td>Sun</td>\n",
       "      <td>Dinner</td>\n",
       "      <td>3</td>\n",
       "    </tr>\n",
       "    <tr>\n",
       "      <th>2</th>\n",
       "      <td>21.01</td>\n",
       "      <td>3.50</td>\n",
       "      <td>Male</td>\n",
       "      <td>No</td>\n",
       "      <td>Sun</td>\n",
       "      <td>Dinner</td>\n",
       "      <td>3</td>\n",
       "    </tr>\n",
       "    <tr>\n",
       "      <th>3</th>\n",
       "      <td>23.68</td>\n",
       "      <td>3.31</td>\n",
       "      <td>Male</td>\n",
       "      <td>No</td>\n",
       "      <td>Sun</td>\n",
       "      <td>Dinner</td>\n",
       "      <td>2</td>\n",
       "    </tr>\n",
       "    <tr>\n",
       "      <th>4</th>\n",
       "      <td>24.59</td>\n",
       "      <td>3.61</td>\n",
       "      <td>Female</td>\n",
       "      <td>No</td>\n",
       "      <td>Sun</td>\n",
       "      <td>Dinner</td>\n",
       "      <td>4</td>\n",
       "    </tr>\n",
       "    <tr>\n",
       "      <th>...</th>\n",
       "      <td>...</td>\n",
       "      <td>...</td>\n",
       "      <td>...</td>\n",
       "      <td>...</td>\n",
       "      <td>...</td>\n",
       "      <td>...</td>\n",
       "      <td>...</td>\n",
       "    </tr>\n",
       "    <tr>\n",
       "      <th>239</th>\n",
       "      <td>29.03</td>\n",
       "      <td>5.92</td>\n",
       "      <td>Male</td>\n",
       "      <td>No</td>\n",
       "      <td>Sat</td>\n",
       "      <td>Dinner</td>\n",
       "      <td>3</td>\n",
       "    </tr>\n",
       "    <tr>\n",
       "      <th>240</th>\n",
       "      <td>27.18</td>\n",
       "      <td>2.00</td>\n",
       "      <td>Female</td>\n",
       "      <td>Yes</td>\n",
       "      <td>Sat</td>\n",
       "      <td>Dinner</td>\n",
       "      <td>2</td>\n",
       "    </tr>\n",
       "    <tr>\n",
       "      <th>241</th>\n",
       "      <td>22.67</td>\n",
       "      <td>2.00</td>\n",
       "      <td>Male</td>\n",
       "      <td>Yes</td>\n",
       "      <td>Sat</td>\n",
       "      <td>Dinner</td>\n",
       "      <td>2</td>\n",
       "    </tr>\n",
       "    <tr>\n",
       "      <th>242</th>\n",
       "      <td>17.82</td>\n",
       "      <td>1.75</td>\n",
       "      <td>Male</td>\n",
       "      <td>No</td>\n",
       "      <td>Sat</td>\n",
       "      <td>Dinner</td>\n",
       "      <td>2</td>\n",
       "    </tr>\n",
       "    <tr>\n",
       "      <th>243</th>\n",
       "      <td>18.78</td>\n",
       "      <td>3.00</td>\n",
       "      <td>Female</td>\n",
       "      <td>No</td>\n",
       "      <td>Thur</td>\n",
       "      <td>Dinner</td>\n",
       "      <td>2</td>\n",
       "    </tr>\n",
       "  </tbody>\n",
       "</table>\n",
       "<p>244 rows × 7 columns</p>\n",
       "</div>"
      ],
      "text/plain": [
       "     total_bill   tip     sex smoker   day    time  size\n",
       "0         16.99  1.01  Female     No   Sun  Dinner     2\n",
       "1         10.34  1.66    Male     No   Sun  Dinner     3\n",
       "2         21.01  3.50    Male     No   Sun  Dinner     3\n",
       "3         23.68  3.31    Male     No   Sun  Dinner     2\n",
       "4         24.59  3.61  Female     No   Sun  Dinner     4\n",
       "..          ...   ...     ...    ...   ...     ...   ...\n",
       "239       29.03  5.92    Male     No   Sat  Dinner     3\n",
       "240       27.18  2.00  Female    Yes   Sat  Dinner     2\n",
       "241       22.67  2.00    Male    Yes   Sat  Dinner     2\n",
       "242       17.82  1.75    Male     No   Sat  Dinner     2\n",
       "243       18.78  3.00  Female     No  Thur  Dinner     2\n",
       "\n",
       "[244 rows x 7 columns]"
      ]
     },
     "execution_count": 12,
     "metadata": {},
     "output_type": "execute_result"
    }
   ],
   "source": [
    "df_what"
   ]
  }
 ],
 "metadata": {
  "kernelspec": {
   "display_name": "Python 3.9.13 ('asm')",
   "language": "python",
   "name": "python3"
  },
  "language_info": {
   "codemirror_mode": {
    "name": "ipython",
    "version": 3
   },
   "file_extension": ".py",
   "mimetype": "text/x-python",
   "name": "python",
   "nbconvert_exporter": "python",
   "pygments_lexer": "ipython3",
   "version": "3.9.13"
  },
  "orig_nbformat": 4,
  "vscode": {
   "interpreter": {
    "hash": "9b6ac5a542eb0f2c8a998100eae422c9aedfe9a003cc782261abeaa301a2df78"
   }
  }
 },
 "nbformat": 4,
 "nbformat_minor": 2
}
