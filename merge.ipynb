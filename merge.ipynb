{
 "cells": [
  {
   "cell_type": "code",
   "execution_count": null,
   "metadata": {},
   "outputs": [],
   "source": [
    "import pandas as pd\n"
   ]
  },
  {
   "cell_type": "code",
   "execution_count": 2,
   "metadata": {},
   "outputs": [],
   "source": [
    "df_1 = pd.read_excel('diem_f1_md.xlsx')"
   ]
  },
  {
   "cell_type": "code",
   "execution_count": 3,
   "metadata": {},
   "outputs": [],
   "source": [
    "df_2 = pd.read_excel('diem_f2_md.xlsx')"
   ]
  },
  {
   "cell_type": "code",
   "execution_count": 4,
   "metadata": {},
   "outputs": [
    {
     "name": "stdout",
     "output_type": "stream",
     "text": [
      "(500000, 33)\n",
      "<class 'pandas.core.frame.DataFrame'>\n",
      "RangeIndex: 500000 entries, 0 to 499999\n",
      "Data columns (total 33 columns):\n",
      " #   Column      Non-Null Count   Dtype  \n",
      "---  ------      --------------   -----  \n",
      " 0   NAMHOC      500000 non-null  int64  \n",
      " 1   TENHK       500000 non-null  int64  \n",
      " 2   NHHK        500000 non-null  int64  \n",
      " 3   F_MAMH      500000 non-null  object \n",
      " 4   F_TENMHVN   500000 non-null  object \n",
      " 5   F_DVHT      500000 non-null  float64\n",
      " 6   F_PHTRAMKT  500000 non-null  int64  \n",
      " 7   F_PHTRAMTH  500000 non-null  int64  \n",
      " 8   F_MANH      500000 non-null  object \n",
      " 9   F_TO        405069 non-null  object \n",
      " 10  STT         436587 non-null  float64\n",
      " 11  F_MAKH      500000 non-null  object \n",
      " 12  F_TENLOP    500000 non-null  object \n",
      " 13  F_KHOI      500000 non-null  object \n",
      " 14  F_MANG      500000 non-null  object \n",
      " 15  F_TENNGVN   500000 non-null  object \n",
      " 16  MASV1       500000 non-null  int64  \n",
      " 17  KT          414857 non-null  float64\n",
      " 18  TILEKT      414858 non-null  float64\n",
      " 19  BT          366228 non-null  float64\n",
      " 20  TILEBT      366228 non-null  float64\n",
      " 21  BTLDA       364753 non-null  float64\n",
      " 22  TILEBTLDA   364753 non-null  float64\n",
      " 23  TN          292696 non-null  float64\n",
      " 24  TILETN      337006 non-null  float64\n",
      " 25  THI         481082 non-null  float64\n",
      " 26  TILETHI     481082 non-null  float64\n",
      " 27  TKET        500000 non-null  object \n",
      " 28  F_DIEM1     53 non-null      float64\n",
      " 29  F_DIEM2     15862 non-null   float64\n",
      " 30  F_DIEM10    0 non-null       float64\n",
      " 31  GHICHU      505 non-null     object \n",
      " 32  T           0 non-null       float64\n",
      "dtypes: float64(16), int64(6), object(11)\n",
      "memory usage: 125.9+ MB\n",
      "None\n",
      "Index(['NAMHOC', 'TENHK', 'NHHK', 'F_MAMH', 'F_TENMHVN', 'F_DVHT',\n",
      "       'F_PHTRAMKT', 'F_PHTRAMTH', 'F_MANH', 'F_TO', 'STT', 'F_MAKH',\n",
      "       'F_TENLOP', 'F_KHOI', 'F_MANG', 'F_TENNGVN', 'MASV1', 'KT', 'TILEKT',\n",
      "       'BT', 'TILEBT', 'BTLDA', 'TILEBTLDA', 'TN', 'TILETN', 'THI', 'TILETHI',\n",
      "       'TKET', 'F_DIEM1', 'F_DIEM2', 'F_DIEM10', 'GHICHU', 'T'],\n",
      "      dtype='object')\n"
     ]
    }
   ],
   "source": [
    "print(df_1.shape)\n",
    "print(df_1.info())\n",
    "print(df_1.columns)"
   ]
  },
  {
   "cell_type": "code",
   "execution_count": 5,
   "metadata": {},
   "outputs": [
    {
     "name": "stdout",
     "output_type": "stream",
     "text": [
      "(500000, 33)\n",
      "<class 'pandas.core.frame.DataFrame'>\n",
      "RangeIndex: 500000 entries, 0 to 499999\n",
      "Data columns (total 33 columns):\n",
      " #   Column      Non-Null Count   Dtype  \n",
      "---  ------      --------------   -----  \n",
      " 0   NAMHOC      500000 non-null  int64  \n",
      " 1   TENHK       500000 non-null  int64  \n",
      " 2   NHHK        500000 non-null  int64  \n",
      " 3   F_MAMH      500000 non-null  object \n",
      " 4   F_TENMHVN   500000 non-null  object \n",
      " 5   F_DVHT      500000 non-null  float64\n",
      " 6   F_PHTRAMKT  500000 non-null  int64  \n",
      " 7   F_PHTRAMTH  500000 non-null  int64  \n",
      " 8   F_MANH      500000 non-null  object \n",
      " 9   F_TO        500000 non-null  object \n",
      " 10  STT         0 non-null       float64\n",
      " 11  F_MAKH      499994 non-null  object \n",
      " 12  F_TENLOP    500000 non-null  object \n",
      " 13  F_KHOI      500000 non-null  object \n",
      " 14  F_MANG      500000 non-null  object \n",
      " 15  F_TENNGVN   499994 non-null  object \n",
      " 16  MASV1       500000 non-null  int64  \n",
      " 17  KT          163076 non-null  float64\n",
      " 18  TILEKT      163076 non-null  float64\n",
      " 19  BT          107581 non-null  float64\n",
      " 20  TILEBT      107581 non-null  float64\n",
      " 21  BTLDA       108305 non-null  float64\n",
      " 22  TILEBTLDA   108305 non-null  float64\n",
      " 23  TN          61739 non-null   float64\n",
      " 24  TILETN      61739 non-null   float64\n",
      " 25  THI         255369 non-null  float64\n",
      " 26  TILETHI     255251 non-null  float64\n",
      " 27  TKET        500000 non-null  float64\n",
      " 28  F_DIEM1     172267 non-null  float64\n",
      " 29  F_DIEM2     239217 non-null  float64\n",
      " 30  F_DIEM10    239007 non-null  float64\n",
      " 31  GHICHU      0 non-null       float64\n",
      " 32  T           0 non-null       float64\n",
      "dtypes: float64(18), int64(6), object(9)\n",
      "memory usage: 125.9+ MB\n",
      "None\n",
      "Index(['NAMHOC', 'TENHK', 'NHHK', 'F_MAMH', 'F_TENMHVN', 'F_DVHT',\n",
      "       'F_PHTRAMKT', 'F_PHTRAMTH', 'F_MANH', 'F_TO', 'STT', 'F_MAKH',\n",
      "       'F_TENLOP', 'F_KHOI', 'F_MANG', 'F_TENNGVN', 'MASV1', 'KT', 'TILEKT',\n",
      "       'BT', 'TILEBT', 'BTLDA', 'TILEBTLDA', 'TN', 'TILETN', 'THI', 'TILETHI',\n",
      "       'TKET', 'F_DIEM1', 'F_DIEM2', 'F_DIEM10', 'GHICHU', 'T'],\n",
      "      dtype='object')\n"
     ]
    }
   ],
   "source": [
    "print(df_2.shape)\n",
    "print(df_2.info())\n",
    "print(df_2.columns)"
   ]
  },
  {
   "cell_type": "code",
   "execution_count": 6,
   "metadata": {},
   "outputs": [
    {
     "name": "stdout",
     "output_type": "stream",
     "text": [
      "[151 152 153 161 162]\n",
      "[162 163 171 172  71  72]\n"
     ]
    }
   ],
   "source": [
    "print(df_1.NHHK.unique())\n",
    "print(df_2.NHHK.unique())"
   ]
  },
  {
   "cell_type": "code",
   "execution_count": 7,
   "metadata": {},
   "outputs": [
    {
     "data": {
      "text/plain": [
       "(33,)"
      ]
     },
     "execution_count": 7,
     "metadata": {},
     "output_type": "execute_result"
    }
   ],
   "source": [
    "df_1.columns.intersection(df_2.columns).shape"
   ]
  },
  {
   "cell_type": "code",
   "execution_count": 8,
   "metadata": {},
   "outputs": [],
   "source": [
    "df_final = pd.concat([df_1, df_2])"
   ]
  },
  {
   "cell_type": "code",
   "execution_count": 9,
   "metadata": {},
   "outputs": [
    {
     "data": {
      "text/plain": [
       "array([151, 152, 153, 161, 162, 163, 171, 172,  71,  72])"
      ]
     },
     "execution_count": 9,
     "metadata": {},
     "output_type": "execute_result"
    }
   ],
   "source": [
    "df_final.NHHK.unique()"
   ]
  },
  {
   "cell_type": "code",
   "execution_count": 10,
   "metadata": {},
   "outputs": [],
   "source": [
    "df_final.reset_index(drop=True, inplace=True)"
   ]
  },
  {
   "cell_type": "code",
   "execution_count": 11,
   "metadata": {},
   "outputs": [
    {
     "name": "stdout",
     "output_type": "stream",
     "text": [
      "(1000000, 33)\n",
      "<class 'pandas.core.frame.DataFrame'>\n",
      "RangeIndex: 1000000 entries, 0 to 999999\n",
      "Data columns (total 33 columns):\n",
      " #   Column      Non-Null Count    Dtype  \n",
      "---  ------      --------------    -----  \n",
      " 0   NAMHOC      1000000 non-null  int64  \n",
      " 1   TENHK       1000000 non-null  int64  \n",
      " 2   NHHK        1000000 non-null  int64  \n",
      " 3   F_MAMH      1000000 non-null  object \n",
      " 4   F_TENMHVN   1000000 non-null  object \n",
      " 5   F_DVHT      1000000 non-null  float64\n",
      " 6   F_PHTRAMKT  1000000 non-null  int64  \n",
      " 7   F_PHTRAMTH  1000000 non-null  int64  \n",
      " 8   F_MANH      1000000 non-null  object \n",
      " 9   F_TO        905069 non-null   object \n",
      " 10  STT         436587 non-null   float64\n",
      " 11  F_MAKH      999994 non-null   object \n",
      " 12  F_TENLOP    1000000 non-null  object \n",
      " 13  F_KHOI      1000000 non-null  object \n",
      " 14  F_MANG      1000000 non-null  object \n",
      " 15  F_TENNGVN   999994 non-null   object \n",
      " 16  MASV1       1000000 non-null  int64  \n",
      " 17  KT          577933 non-null   float64\n",
      " 18  TILEKT      577934 non-null   float64\n",
      " 19  BT          473809 non-null   float64\n",
      " 20  TILEBT      473809 non-null   float64\n",
      " 21  BTLDA       473058 non-null   float64\n",
      " 22  TILEBTLDA   473058 non-null   float64\n",
      " 23  TN          354435 non-null   float64\n",
      " 24  TILETN      398745 non-null   float64\n",
      " 25  THI         736451 non-null   float64\n",
      " 26  TILETHI     736333 non-null   float64\n",
      " 27  TKET        1000000 non-null  object \n",
      " 28  F_DIEM1     172320 non-null   float64\n",
      " 29  F_DIEM2     255079 non-null   float64\n",
      " 30  F_DIEM10    239007 non-null   float64\n",
      " 31  GHICHU      505 non-null      object \n",
      " 32  T           0 non-null        float64\n",
      "dtypes: float64(16), int64(6), object(11)\n",
      "memory usage: 251.8+ MB\n",
      "None\n",
      "Index(['NAMHOC', 'TENHK', 'NHHK', 'F_MAMH', 'F_TENMHVN', 'F_DVHT',\n",
      "       'F_PHTRAMKT', 'F_PHTRAMTH', 'F_MANH', 'F_TO', 'STT', 'F_MAKH',\n",
      "       'F_TENLOP', 'F_KHOI', 'F_MANG', 'F_TENNGVN', 'MASV1', 'KT', 'TILEKT',\n",
      "       'BT', 'TILEBT', 'BTLDA', 'TILEBTLDA', 'TN', 'TILETN', 'THI', 'TILETHI',\n",
      "       'TKET', 'F_DIEM1', 'F_DIEM2', 'F_DIEM10', 'GHICHU', 'T'],\n",
      "      dtype='object')\n"
     ]
    }
   ],
   "source": [
    "print(df_final.shape)\n",
    "print(df_final.info())\n",
    "print(df_final.columns)"
   ]
  },
  {
   "cell_type": "code",
   "execution_count": 12,
   "metadata": {},
   "outputs": [],
   "source": [
    "df_final.drop_duplicates(keep=\"first\", inplace=True)"
   ]
  },
  {
   "cell_type": "code",
   "execution_count": 13,
   "metadata": {},
   "outputs": [
    {
     "data": {
      "text/plain": [
       "array([4, 6, 8.5, 9.5, 7.5, 5.5, 8, 13, 6.5, 7, 4.5, 9, 3.5, 5, 1.5, 2, 3,\n",
       "       1, 15, 0, 2.5, 0.5, 10, 11, 2.7, 2.6, 2.25, 2.4, 1.6, 1.4, 2.9,\n",
       "       1.8, 2.2, 1.7, 1.9, 2.83, 0.22, 2.29, 0.87, 0.32, 0.01, 0.34, 2.1,\n",
       "       2.8, 2.51, 0.46, 2.57, 2.79, 1.31, 1.95, 1.99, 1.65, 2.81, 2.48,\n",
       "       0.6, 0.8, 2.3, 0.4, 1.3, 2.55, 0.9, 1.2, 8.79, 9.14, 9.07, 8.64,\n",
       "       8.57, 8.42, 8.92, 9.21, 5.25, 4.38, 7.66, 6.6, 8.2, 3.52, 6.28,\n",
       "       8.47, 'CT', 'VT', 'RT', 'IH', 12, 'HT', 'KD', 'DT', 21, 8.67, 8.7,\n",
       "       8.75, 9.33, 7.92, 8.83, 9.83, 9.1, 9.42, 9.25, 8.9, 9.67, 8.17,\n",
       "       9.08, 9.3, 8.6, 8.4, 9.17, 9.45, 9.37, 9.73, 7.83, 9.52, 9.13, 9.4,\n",
       "       9.06, 8.37, 9.23, 9.57, 9.32, 9.18, 9.47, 8.87, 8.93, 9.51, 8.36,\n",
       "       7.86, 7.36, 7.7, 7.8, 7.64, 8.07, 8.08, 7.43, 8.25, 8.29, 6.67,\n",
       "       7.79, 7.57, 8.1, 7.33, 6.86, 7.6, 9.05, 7.93, 7.14, 8.14, 9.79,\n",
       "       8.43, 8.71, 9.75, 8.05, 6.71, 7.17, 8.21, 8.28, 7.85, 8.8, 7.9,\n",
       "       9.36, 6.08, 6.66, 6.16, 7.87, 9.31, 7.63, 7.77, 7.97, 8.3, 8.77,\n",
       "       9.26, 9.2, 8.63, 9.12, 9.76, 8.76, 7.73, 6.77, 9.64, 9.43, 9.29,\n",
       "       7.29, 7.71, 6.36, 5.79, 7.21, 5.71, 8.33, 8.38, 7.75, 5.42, 7.67,\n",
       "       7.58, 8.58, 6.1, 9.22, 8.22, 8.27, 8.53, 8.03, 8.97, 7.38, 7.55,\n",
       "       7.1, 8.88, 6.25, 7.13, 8.13, 7.25, 6.38, 8.78, 8.18, 8.86, 6.93,\n",
       "       8.39, 7.18, 3.61, 6.57, 6.18, 6.21, 7.11, 7.07, 6.11, 7.68, 6.43,\n",
       "       6.82, 6.79, 7.96, 6.29, 6.75, 5.64, 6.64, 6.39, 6.46, 6.54, 4.21,\n",
       "       5.36, 5.86, 5.75, 9.04, 3.57, 3.64, 8.49, 8.09, 4.26, 8.69, 8.04,\n",
       "       4.29, 3.68, 7.42, 8.96, 8.56, 8.54, 8.65, 8.68, 8.23, 7.4, 7.31,\n",
       "       8.19, 7.45, 7.89, 8.01, 7.98, 8.66, 8.06, 6.98, 8.35, 8.89, 7.91,\n",
       "       7.2, 9.8, 9.6, 8.72, 9.35, 7.3, 8.98, 6.3, 9.28, 9.58, 6.42, 6.33,\n",
       "       6.14, 5.57, 6.58, 8.12, 8.45, 6.97, 7.65, 6.92, 7.23, 7.02, 6.15,\n",
       "       9.87, 9.68, 9.7, 8.46, 9.46, 9.54, 7.78, 9.72, 9.88, 6.8, 8.52,\n",
       "       9.9, 8.59, 8.55, 7.48, 8.81, 7.54, 8.44, 7.94, 8.84, 9.03, 5.58,\n",
       "       7.88, 8.34, 9.15, 1.04, 1.74, 6.63, 5.38, 6.88, 6.13, 5.13, 5.67,\n",
       "       6.4, 6.2, 7.05, 7.95, 7.35, 6.83, 6.9, 2.28, 2.66, 2.13, 0.75,\n",
       "       8.02, 6.73, 7.24, 8.94, 7.44, 7.74, 7.16, 6.76, 7.72, 4.7, 8.26,\n",
       "       6.53, 7.28, 7.08, 7.69, 5.4, 6.7, 6.34, 6.27, 6.95, 7.04, 7.47,\n",
       "       6.89, 7.46, 7.82, 5.62, 6.99, 8.15, 8.31, 7.56, 7.81, 8.16, 7.76,\n",
       "       5.83, 5.08, 0.29, 1.75, 2.38, 0.21, 0.42, 5.92, 6.78, 2.75, 2.45,\n",
       "       0.95, 1.55, 0.85, 0.35, 2.65, 1.1, 9.63, 8.11, 6.04, 4.04, 5.33,\n",
       "       5.63, 5.46, 5.9, 5.3, 9.48, 4.14, 5.29, 7.52, 6.81, 7.22, 6.44,\n",
       "       5.91, 6.24, 7.61, 7.03, 7.12, 6.91, 7.53, 6.94, 7.39, 6.56, 9.89,\n",
       "       9.74, 9.34, 7.62, 7.49, 9.24, 8.85, 6.61, 8.61, 8.32, 7.19, 7.34,\n",
       "       7.51, 8.24, 6.84, 9.98, 9.61, 9.16, 9.44, 9.38, 22.0, 7.41, 8.95,\n",
       "       9.71, 8.41, 8.91, 9.86, 9.02, 8.73, 4.1, 9.82, 9.27, 8.62, 4.3,\n",
       "       9.92, 9.62, 8.48, 5.94, 9.78, 9.96, 4.61, 4.43, 6.68, 5.68, 6.96,\n",
       "       5.54, 4.57, 8.74, 8.51, 9.55, 9.97, 9.91, 9.53, 6.07, 5.93, 5.65,\n",
       "       5.8, 5.6, 9.19, 9.85, 3.95, 3.75, 3.35, 5.1, 5.45, 2.35, 3.1, 1.15,\n",
       "       6.17, 5.88, 7.37, 7.84, 7.06, 7.15, 7.27, 6.26, 3.58, 4.88, 4.75,\n",
       "       1.13, 11.9, 5.2, 4.2, 14.0, 9.11, 6.35, 6.85, 4.17, 6.72, 9.01,\n",
       "       8.99, 8.82, 9.65, 3.56, 6.32, 5.7, 9.09, 6.37, 5.89, 6.31, 7.26,\n",
       "       5.31, 4.6, 4.9, 4.4, 3.8, 3.4, 3.9, 3.6, 4.8, 3.3, 0.2, 3.2, 0.7,\n",
       "       3.7, 17.0, 0.3, 0.1], dtype=object)"
      ]
     },
     "execution_count": 13,
     "metadata": {},
     "output_type": "execute_result"
    }
   ],
   "source": [
    "df_final.TKET.unique()"
   ]
  },
  {
   "cell_type": "code",
   "execution_count": 14,
   "metadata": {},
   "outputs": [],
   "source": [
    "special_score = ['CT', 'MT', 'VT', 'RT', 'IH', 'HT', 'KD', 'DT', 'VP', 11, 12, 13, 14, 15, 16, 17, 20, 21, 22]"
   ]
  },
  {
   "cell_type": "code",
   "execution_count": 15,
   "metadata": {},
   "outputs": [],
   "source": [
    "df_final = df_final.query('TKET not in @special_score')"
   ]
  },
  {
   "cell_type": "code",
   "execution_count": 16,
   "metadata": {},
   "outputs": [],
   "source": [
    "df_final.TKET = df_final.TKET.astype(float)"
   ]
  },
  {
   "cell_type": "code",
   "execution_count": 17,
   "metadata": {},
   "outputs": [
    {
     "name": "stdout",
     "output_type": "stream",
     "text": [
      "2508\n",
      "3256\n",
      "Giải tích 1 has 3 subject codes: [6001 6401 'MT1003' 6801]\n",
      "Những ngLý cơbản cn M-Lê has the subject code: [1001]\n",
      "Những NgLý cơbản CN M-Lê has the subject code: ['SP1003']\n"
     ]
    }
   ],
   "source": [
    "print(len(df_final[\"F_TENMHVN\"].unique()))\n",
    "print(len(df_final[\"F_MAMH\"].unique()))\n",
    "print(\"Giải tích 1 has 3 subject codes: \"+ str(df_final[df_final['F_TENMHVN'] == \"Giải tích 1\"][\"F_MAMH\"].unique()))\n",
    "print(\"Những ngLý cơbản cn M-Lê has the subject code: \"+ str(df_final[df_final['F_TENMHVN'] == \"Những ngLý cơbản cn M-Lê\"][\"F_MAMH\"].unique()))\n",
    "print(\"Những NgLý cơbản CN M-Lê has the subject code: \"+ str(df_final[df_final['F_TENMHVN'] == \"Những NgLý cơbản CN M-Lê\"][\"F_MAMH\"].unique()))"
   ]
  },
  {
   "cell_type": "code",
   "execution_count": 18,
   "metadata": {},
   "outputs": [],
   "source": [
    "df_final.F_MAMH = df_final.F_MAMH.astype(str)"
   ]
  },
  {
   "cell_type": "code",
   "execution_count": 19,
   "metadata": {},
   "outputs": [
    {
     "name": "stdout",
     "output_type": "stream",
     "text": [
      "[]\n",
      "['1001' '1004' '1025' '3001' '3002' '3003' '3004' '3106' '3107' '3109'\n",
      " '3701' '3703' '3705' '3707' '3709' '3720' '3722' '3724' '5005' '5006'\n",
      " '5011' '6001' '6002' '6004' '6018' '6019' '6023' '6043' '6045' '6046'\n",
      " '6401' '6402' '6404' '6405' '6407' '6601' '6602' '6711' '6713' '6714'\n",
      " '7001' '7002' '7005' '7017' '7024' '7025' '7029' '7031' '7034' '7035'\n",
      " '7036' '7037' '7039' '7041' '7045' '7120' '7401' '7402' '7403' '7404'\n",
      " '7601' '7703' '7704' '7705' '7706' '7710' '8001' '8701' '3108' '3110'\n",
      " '3401' '3702' '3704' '3706' '3708' '3721' '3723' '3728' '3730' '6007'\n",
      " '6712' '6717' '6718' '6719' '7020' '7021' '7023' '7026' '7030' '7032'\n",
      " '7033' '7038' '7040' '7043' '7044' '7109' '7119' '7707' '7708' '7709'\n",
      " '7302' '3727' '3729' '7003' '7303' '6406' '1011' '3017' '3103' '3104'\n",
      " '7016' '6020' '1012' '7027' '7028' '3016' '6038' '7022' '7300' '7110'\n",
      " '3024' '1022' '6041' '7301' '7014' '1021' '6039' '3045' '6048' '6805'\n",
      " '7803' '6029' '3807' '4009' '4010' '4011' '3022' '1059' '3041' '5010'\n",
      " '7010' '8004' '7015' '6040' '3019' '3018' '6801' '6802' '7801' '1026'\n",
      " '6047' '7042' '7047' '6044' '7048' '3044' '7011' '3105' '1017' '4012'\n",
      " '5012' '6030']\n"
     ]
    }
   ],
   "source": [
    "print(df_final[df_final.F_MAMH.str.len() > 6].F_MAMH.unique())\n",
    "print(df_final[df_final.F_MAMH.str.len() < 6].F_MAMH.unique())"
   ]
  },
  {
   "cell_type": "code",
   "execution_count": 20,
   "metadata": {},
   "outputs": [],
   "source": [
    "df_final.loc[df_final['F_MAMH'].str.len() == 4, 'F_MAMH'] = \"00\" + df_final.F_MAMH"
   ]
  },
  {
   "cell_type": "code",
   "execution_count": 21,
   "metadata": {},
   "outputs": [
    {
     "data": {
      "text/plain": [
       "False"
      ]
     },
     "execution_count": 21,
     "metadata": {},
     "output_type": "execute_result"
    }
   ],
   "source": [
    "df_final.columns.duplicated().any()"
   ]
  },
  {
   "cell_type": "code",
   "execution_count": 22,
   "metadata": {},
   "outputs": [
    {
     "name": "stdout",
     "output_type": "stream",
     "text": [
      "<class 'pandas.core.frame.DataFrame'>\n",
      "Int64Index: 914924 entries, 0 to 999999\n",
      "Data columns (total 33 columns):\n",
      " #   Column      Non-Null Count   Dtype  \n",
      "---  ------      --------------   -----  \n",
      " 0   NAMHOC      914924 non-null  int64  \n",
      " 1   TENHK       914924 non-null  int64  \n",
      " 2   NHHK        914924 non-null  int64  \n",
      " 3   F_MAMH      914924 non-null  object \n",
      " 4   F_TENMHVN   914924 non-null  object \n",
      " 5   F_DVHT      914924 non-null  float64\n",
      " 6   F_PHTRAMKT  914924 non-null  int64  \n",
      " 7   F_PHTRAMTH  914924 non-null  int64  \n",
      " 8   F_MANH      914924 non-null  object \n",
      " 9   F_TO        829649 non-null  object \n",
      " 10  STT         384131 non-null  float64\n",
      " 11  F_MAKH      914918 non-null  object \n",
      " 12  F_TENLOP    914924 non-null  object \n",
      " 13  F_KHOI      914924 non-null  object \n",
      " 14  F_MANG      914924 non-null  object \n",
      " 15  F_TENNGVN   914918 non-null  object \n",
      " 16  MASV1       914924 non-null  int64  \n",
      " 17  KT          508905 non-null  float64\n",
      " 18  TILEKT      508905 non-null  float64\n",
      " 19  BT          417935 non-null  float64\n",
      " 20  TILEBT      417935 non-null  float64\n",
      " 21  BTLDA       418258 non-null  float64\n",
      " 22  TILEBTLDA   418258 non-null  float64\n",
      " 23  TN          313641 non-null  float64\n",
      " 24  TILETN      352485 non-null  float64\n",
      " 25  THI         653697 non-null  float64\n",
      " 26  TILETHI     653579 non-null  float64\n",
      " 27  TKET        914924 non-null  float64\n",
      " 28  F_DIEM1     171645 non-null  float64\n",
      " 29  F_DIEM2     253384 non-null  float64\n",
      " 30  F_DIEM10    237787 non-null  float64\n",
      " 31  GHICHU      0 non-null       object \n",
      " 32  T           0 non-null       float64\n",
      "dtypes: float64(17), int64(6), object(10)\n",
      "memory usage: 269.6+ MB\n"
     ]
    }
   ],
   "source": [
    "df_final.info()"
   ]
  },
  {
   "cell_type": "code",
   "execution_count": 32,
   "metadata": {},
   "outputs": [
    {
     "data": {
      "text/plain": [
       "array([151, 152, 153, 161, 162, 163, 171, 172])"
      ]
     },
     "execution_count": 32,
     "metadata": {},
     "output_type": "execute_result"
    }
   ],
   "source": [
    "df_final.NHHK.unique()"
   ]
  },
  {
   "cell_type": "code",
   "execution_count": 31,
   "metadata": {},
   "outputs": [
    {
     "data": {
      "text/plain": [
       "array([2015, 2016, 2017])"
      ]
     },
     "execution_count": 31,
     "metadata": {},
     "output_type": "execute_result"
    }
   ],
   "source": [
    "df_final.NAMHOC.unique()"
   ]
  },
  {
   "cell_type": "code",
   "execution_count": 25,
   "metadata": {},
   "outputs": [],
   "source": [
    "other_years_1 = [71, 72]"
   ]
  },
  {
   "cell_type": "code",
   "execution_count": 26,
   "metadata": {},
   "outputs": [],
   "source": [
    "df_final = df_final[~df_final.NHHK.isin(other_years_1)]"
   ]
  },
  {
   "cell_type": "code",
   "execution_count": 27,
   "metadata": {},
   "outputs": [
    {
     "name": "stdout",
     "output_type": "stream",
     "text": [
      "<class 'pandas.core.frame.DataFrame'>\n",
      "Int64Index: 677117 entries, 0 to 760731\n",
      "Data columns (total 33 columns):\n",
      " #   Column      Non-Null Count   Dtype  \n",
      "---  ------      --------------   -----  \n",
      " 0   NAMHOC      677117 non-null  int64  \n",
      " 1   TENHK       677117 non-null  int64  \n",
      " 2   NHHK        677117 non-null  int64  \n",
      " 3   F_MAMH      677117 non-null  object \n",
      " 4   F_TENMHVN   677117 non-null  object \n",
      " 5   F_DVHT      677117 non-null  float64\n",
      " 6   F_PHTRAMKT  677117 non-null  int64  \n",
      " 7   F_PHTRAMTH  677117 non-null  int64  \n",
      " 8   F_MANH      677117 non-null  object \n",
      " 9   F_TO        591842 non-null  object \n",
      " 10  STT         384131 non-null  float64\n",
      " 11  F_MAKH      677115 non-null  object \n",
      " 12  F_TENLOP    677117 non-null  object \n",
      " 13  F_KHOI      677117 non-null  object \n",
      " 14  F_MANG      677117 non-null  object \n",
      " 15  F_TENNGVN   677115 non-null  object \n",
      " 16  MASV1       677117 non-null  int64  \n",
      " 17  KT          508905 non-null  float64\n",
      " 18  TILEKT      508905 non-null  float64\n",
      " 19  BT          417935 non-null  float64\n",
      " 20  TILEBT      417935 non-null  float64\n",
      " 21  BTLDA       418258 non-null  float64\n",
      " 22  TILEBTLDA   418258 non-null  float64\n",
      " 23  TN          313641 non-null  float64\n",
      " 24  TILETN      352485 non-null  float64\n",
      " 25  THI         653697 non-null  float64\n",
      " 26  TILETHI     653579 non-null  float64\n",
      " 27  TKET        677117 non-null  float64\n",
      " 28  F_DIEM1     47 non-null      float64\n",
      " 29  F_DIEM2     15628 non-null   float64\n",
      " 30  F_DIEM10    0 non-null       float64\n",
      " 31  GHICHU      0 non-null       object \n",
      " 32  T           0 non-null       float64\n",
      "dtypes: float64(17), int64(6), object(10)\n",
      "memory usage: 175.6+ MB\n"
     ]
    }
   ],
   "source": [
    "df_final.info()"
   ]
  },
  {
   "cell_type": "code",
   "execution_count": 28,
   "metadata": {},
   "outputs": [],
   "source": [
    "df_final.drop([\"F_DIEM10\", \"GHICHU\", \"T\"], axis = 1, inplace = True)"
   ]
  },
  {
   "cell_type": "code",
   "execution_count": 29,
   "metadata": {},
   "outputs": [],
   "source": [
    "df_final.reset_index(drop=True, inplace=True)"
   ]
  },
  {
   "cell_type": "code",
   "execution_count": 30,
   "metadata": {},
   "outputs": [
    {
     "name": "stdout",
     "output_type": "stream",
     "text": [
      "<class 'pandas.core.frame.DataFrame'>\n",
      "RangeIndex: 677117 entries, 0 to 677116\n",
      "Data columns (total 30 columns):\n",
      " #   Column      Non-Null Count   Dtype  \n",
      "---  ------      --------------   -----  \n",
      " 0   NAMHOC      677117 non-null  int64  \n",
      " 1   TENHK       677117 non-null  int64  \n",
      " 2   NHHK        677117 non-null  int64  \n",
      " 3   F_MAMH      677117 non-null  object \n",
      " 4   F_TENMHVN   677117 non-null  object \n",
      " 5   F_DVHT      677117 non-null  float64\n",
      " 6   F_PHTRAMKT  677117 non-null  int64  \n",
      " 7   F_PHTRAMTH  677117 non-null  int64  \n",
      " 8   F_MANH      677117 non-null  object \n",
      " 9   F_TO        591842 non-null  object \n",
      " 10  STT         384131 non-null  float64\n",
      " 11  F_MAKH      677115 non-null  object \n",
      " 12  F_TENLOP    677117 non-null  object \n",
      " 13  F_KHOI      677117 non-null  object \n",
      " 14  F_MANG      677117 non-null  object \n",
      " 15  F_TENNGVN   677115 non-null  object \n",
      " 16  MASV1       677117 non-null  int64  \n",
      " 17  KT          508905 non-null  float64\n",
      " 18  TILEKT      508905 non-null  float64\n",
      " 19  BT          417935 non-null  float64\n",
      " 20  TILEBT      417935 non-null  float64\n",
      " 21  BTLDA       418258 non-null  float64\n",
      " 22  TILEBTLDA   418258 non-null  float64\n",
      " 23  TN          313641 non-null  float64\n",
      " 24  TILETN      352485 non-null  float64\n",
      " 25  THI         653697 non-null  float64\n",
      " 26  TILETHI     653579 non-null  float64\n",
      " 27  TKET        677117 non-null  float64\n",
      " 28  F_DIEM1     47 non-null      float64\n",
      " 29  F_DIEM2     15628 non-null   float64\n",
      "dtypes: float64(15), int64(6), object(9)\n",
      "memory usage: 155.0+ MB\n"
     ]
    }
   ],
   "source": [
    "df_final.info()"
   ]
  },
  {
   "cell_type": "code",
   "execution_count": 33,
   "metadata": {},
   "outputs": [],
   "source": [
    "df_final.to_csv(\"diem_clean.csv\", index = False)"
   ]
  },
  {
   "cell_type": "code",
   "execution_count": 34,
   "metadata": {},
   "outputs": [
    {
     "data": {
      "text/plain": [
       "array(['001001', '001004', '001025', ..., '407408', 'EE3113', 'GE3077'],\n",
       "      dtype=object)"
      ]
     },
     "execution_count": 34,
     "metadata": {},
     "output_type": "execute_result"
    }
   ],
   "source": [
    "df_final.F_MAMH.unique()"
   ]
  },
  {
   "cell_type": "code",
   "execution_count": null,
   "metadata": {},
   "outputs": [],
   "source": [
    "df_final.F_MAMH = df_final.F_MAMH.astype(str)"
   ]
  },
  {
   "cell_type": "markdown",
   "metadata": {},
   "source": [
    "# New Clean"
   ]
  },
  {
   "cell_type": "code",
   "execution_count": 1,
   "metadata": {},
   "outputs": [],
   "source": [
    "import pandas as pd\n",
    "df_clean = pd.read_csv(\"diem_clean.csv\", dtype = {\"F_MAMH\": str})"
   ]
  },
  {
   "cell_type": "code",
   "execution_count": 4,
   "metadata": {},
   "outputs": [
    {
     "name": "stdout",
     "output_type": "stream",
     "text": [
      "<class 'pandas.core.frame.DataFrame'>\n",
      "RangeIndex: 677117 entries, 0 to 677116\n",
      "Data columns (total 30 columns):\n",
      " #   Column      Non-Null Count   Dtype  \n",
      "---  ------      --------------   -----  \n",
      " 0   NAMHOC      677117 non-null  int64  \n",
      " 1   TENHK       677117 non-null  int64  \n",
      " 2   NHHK        677117 non-null  int64  \n",
      " 3   F_MAMH      677117 non-null  object \n",
      " 4   F_TENMHVN   677117 non-null  object \n",
      " 5   F_DVHT      677117 non-null  float64\n",
      " 6   F_PHTRAMKT  677117 non-null  int64  \n",
      " 7   F_PHTRAMTH  677117 non-null  int64  \n",
      " 8   F_MANH      677117 non-null  object \n",
      " 9   F_TO        591842 non-null  object \n",
      " 10  STT         384131 non-null  float64\n",
      " 11  F_MAKH      677115 non-null  object \n",
      " 12  F_TENLOP    677117 non-null  object \n",
      " 13  F_KHOI      677117 non-null  object \n",
      " 14  F_MANG      677117 non-null  object \n",
      " 15  F_TENNGVN   677115 non-null  object \n",
      " 16  MASV1       677117 non-null  int64  \n",
      " 17  KT          677117 non-null  float64\n",
      " 18  TILEKT      677117 non-null  float64\n",
      " 19  BT          677117 non-null  float64\n",
      " 20  TILEBT      677117 non-null  float64\n",
      " 21  BTLDA       677117 non-null  float64\n",
      " 22  TILEBTLDA   677117 non-null  float64\n",
      " 23  TN          677117 non-null  float64\n",
      " 24  TILETN      677117 non-null  float64\n",
      " 25  THI         677117 non-null  float64\n",
      " 26  TILETHI     677117 non-null  float64\n",
      " 27  TKET        677117 non-null  float64\n",
      " 28  F_DIEM1     47 non-null      float64\n",
      " 29  F_DIEM2     15628 non-null   float64\n",
      "dtypes: float64(15), int64(6), object(9)\n",
      "memory usage: 155.0+ MB\n"
     ]
    }
   ],
   "source": [
    "df_clean.info()"
   ]
  },
  {
   "cell_type": "code",
   "execution_count": 12,
   "metadata": {},
   "outputs": [],
   "source": [
    "import numpy"
   ]
  },
  {
   "cell_type": "code",
   "execution_count": 3,
   "metadata": {},
   "outputs": [],
   "source": [
    "# File NA with 0\n",
    "df_clean[\"KT\"] = df_clean[\"KT\"].fillna(-1)\n",
    "df_clean[\"TILEKT\"] = df_clean[\"TILEKT\"].fillna(0)\n",
    "df_clean[\"BT\"] = df_clean[\"BT\"].fillna(-1)\n",
    "df_clean[\"TILEBT\"] = df_clean[\"TILEBT\"].fillna(0)\n",
    "df_clean[\"BTLDA\"] = df_clean[\"BTLDA\"].fillna(-1)\n",
    "df_clean[\"TILEBTLDA\"] = df_clean[\"TILEBTLDA\"].fillna(0)\n",
    "df_clean[\"TN\"] = df_clean[\"TN\"].fillna(-1)\n",
    "df_clean[\"TILETN\"] = df_clean[\"TILETN\"].fillna(0)\n",
    "df_clean[\"THI\"] = df_clean[\"THI\"].fillna(-1)\n",
    "df_clean[\"TILETHI\"] = df_clean[\"TILETHI\"].fillna(0)\n"
   ]
  },
  {
   "cell_type": "code",
   "execution_count": 5,
   "metadata": {},
   "outputs": [],
   "source": [
    "df_clean.to_csv(\"diem_clean_with_minus1.csv\", index = False)"
   ]
  },
  {
   "cell_type": "markdown",
   "metadata": {},
   "source": [
    "# Clean diem -> -1 when tile is 0"
   ]
  },
  {
   "cell_type": "code",
   "execution_count": 7,
   "metadata": {},
   "outputs": [],
   "source": [
    "import pandas \n",
    "df_clean_2 = pandas.read_csv(\"diem_clean_with_0.csv\", dtype = {\"F_MAMH\": str})"
   ]
  },
  {
   "cell_type": "code",
   "execution_count": 19,
   "metadata": {},
   "outputs": [
    {
     "data": {
      "text/plain": [
       "Giải tích 1                 13302\n",
       "Giáo dục thể chất 1         12509\n",
       "Giáo dục thể chất 2         12164\n",
       "Thí nghiệm vật lý           11414\n",
       "Đại số tuyến tính           11412\n",
       "                            ...  \n",
       "ĐAMH đánh gía tácđộng mt        1\n",
       "Thực tập kỹ thuật y sinh        1\n",
       "Thực tập 1                      1\n",
       "Các pp xđ ct hợp chất hc        1\n",
       "ĐAMH tk vịtrí& m/bg htcn        1\n",
       "Name: F_TENMHVN, Length: 2123, dtype: int64"
      ]
     },
     "execution_count": 19,
     "metadata": {},
     "output_type": "execute_result"
    }
   ],
   "source": [
    "df_clean_2.F_TENMHVN.value_counts()"
   ]
  }
 ],
 "metadata": {
  "kernelspec": {
   "display_name": "Python 3.9.13 ('asm')",
   "language": "python",
   "name": "python3"
  },
  "language_info": {
   "codemirror_mode": {
    "name": "ipython",
    "version": 3
   },
   "file_extension": ".py",
   "mimetype": "text/x-python",
   "name": "python",
   "nbconvert_exporter": "python",
   "pygments_lexer": "ipython3",
   "version": "3.9.13"
  },
  "orig_nbformat": 4,
  "vscode": {
   "interpreter": {
    "hash": "9b6ac5a542eb0f2c8a998100eae422c9aedfe9a003cc782261abeaa301a2df78"
   }
  }
 },
 "nbformat": 4,
 "nbformat_minor": 2
}
